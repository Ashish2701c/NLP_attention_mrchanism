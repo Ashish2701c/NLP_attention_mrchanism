{
  "metadata": {
    "kernelspec": {
      "language": "python",
      "display_name": "Python 3",
      "name": "python3"
    },
    "language_info": {
      "name": "python",
      "version": "3.7.12",
      "mimetype": "text/x-python",
      "codemirror_mode": {
        "name": "ipython",
        "version": 3
      },
      "pygments_lexer": "ipython3",
      "nbconvert_exporter": "python",
      "file_extension": ".py"
    },
    "colab": {
      "name": "nlp-attn-mech-fin0.ipynb",
      "provenance": []
    }
  },
  "nbformat_minor": 0,
  "nbformat": 4,
  "cells": [
    {
      "cell_type": "code",
      "source": [
        "# This Python 3 environment comes with many helpful analytics libraries installed\n",
        "# It is defined by the kaggle/python Docker image: https://github.com/kaggle/docker-python\n",
        "# For example, here's several helpful packages to load\n",
        "\n",
        "import numpy as np # linear algebra\n",
        "import pandas as pd # data processing, CSV file I/O (e.g. pd.read_csv)\n",
        "\n",
        "# Input data files are available in the read-only \"../input/\" directory\n",
        "# For example, running this (by clicking run or pressing Shift+Enter) will list all files under the input directory\n",
        "\n",
        "import os\n",
        "for dirname, _, filenames in os.walk('/kaggle/input'):\n",
        "    for filename in filenames:\n",
        "        print(os.path.join(dirname, filename))\n",
        "\n",
        "# You can write up to 20GB to the current directory (/kaggle/working/) that gets preserved as output when you create a version using \"Save & Run All\" \n",
        "# You can also write temporary files to /kaggle/temp/, but they won't be saved outside of the current session"
      ],
      "metadata": {
        "_uuid": "8f2839f25d086af736a60e9eeb907d3b93b6e0e5",
        "_cell_guid": "b1076dfc-b9ad-4769-8c92-a6c4dae69d19",
        "trusted": true,
        "id": "8d8GNbZAEj5C"
      },
      "execution_count": null,
      "outputs": []
    },
    {
      "cell_type": "code",
      "source": [
        "import pandas as pd\n",
        "import numpy as  np\n",
        "import pandas as pd\n",
        "import nltk\n",
        "import re\n",
        "from tqdm import tqdm\n",
        "import tensorflow as tf\n",
        "from nltk.corpus import stopwords\n",
        "from prettytable import PrettyTable\n",
        "import pickle\n",
        "import matplotlib.pyplot as plt\n",
        "import seaborn as sb\n",
        "import warnings\n",
        "from tensorflow.keras.activations import *\n",
        "from tensorflow.keras.layers import *\n",
        "from tensorflow.keras.models import *\n",
        "from bs4 import BeautifulSoup\n",
        "from sklearn.model_selection import train_test_split\n",
        "from tensorflow.keras.preprocessing.text import Tokenizer\n",
        "from tensorflow.keras.preprocessing.sequence import pad_sequences\n",
        "warnings.filterwarnings(\"ignore\")"
      ],
      "metadata": {
        "execution": {
          "iopub.status.busy": "2022-07-12T13:40:51.379134Z",
          "iopub.execute_input": "2022-07-12T13:40:51.379653Z",
          "iopub.status.idle": "2022-07-12T13:40:58.295220Z",
          "shell.execute_reply.started": "2022-07-12T13:40:51.379538Z",
          "shell.execute_reply": "2022-07-12T13:40:58.294234Z"
        },
        "trusted": true,
        "id": "Vjo16coYEj5J"
      },
      "execution_count": null,
      "outputs": []
    },
    {
      "cell_type": "code",
      "source": [
        "with open('../input/itaeng/ita.txt', 'r', encoding=\"utf8\") as file:\n",
        "    english = []\n",
        "    italian = []\n",
        "    for i in file.readlines():\n",
        "        english.append(i.split(\"\\t\")[0])\n",
        "        italian.append(i.split(\"\\t\")[1])\n",
        "data = pd.DataFrame({'english': english, 'italian': italian})\n",
        "data.head()"
      ],
      "metadata": {
        "execution": {
          "iopub.status.busy": "2022-07-12T13:51:04.421923Z",
          "iopub.execute_input": "2022-07-12T13:51:04.422274Z",
          "iopub.status.idle": "2022-07-12T13:51:05.028766Z",
          "shell.execute_reply.started": "2022-07-12T13:51:04.422245Z",
          "shell.execute_reply": "2022-07-12T13:51:05.027800Z"
        },
        "trusted": true,
        "id": "YF9omzoYEj5L",
        "outputId": "8e9e9b14-4648-4a07-a743-2d5acd45c32e"
      },
      "execution_count": null,
      "outputs": [
        {
          "execution_count": 11,
          "output_type": "execute_result",
          "data": {
            "text/plain": "  english   italian\n0     Hi.     Ciao!\n1     Hi.     Ciao.\n2    Run!    Corri!\n3    Run!    Corra!\n4    Run!  Correte!",
            "text/html": "<div>\n<style scoped>\n    .dataframe tbody tr th:only-of-type {\n        vertical-align: middle;\n    }\n\n    .dataframe tbody tr th {\n        vertical-align: top;\n    }\n\n    .dataframe thead th {\n        text-align: right;\n    }\n</style>\n<table border=\"1\" class=\"dataframe\">\n  <thead>\n    <tr style=\"text-align: right;\">\n      <th></th>\n      <th>english</th>\n      <th>italian</th>\n    </tr>\n  </thead>\n  <tbody>\n    <tr>\n      <th>0</th>\n      <td>Hi.</td>\n      <td>Ciao!</td>\n    </tr>\n    <tr>\n      <th>1</th>\n      <td>Hi.</td>\n      <td>Ciao.</td>\n    </tr>\n    <tr>\n      <th>2</th>\n      <td>Run!</td>\n      <td>Corri!</td>\n    </tr>\n    <tr>\n      <th>3</th>\n      <td>Run!</td>\n      <td>Corra!</td>\n    </tr>\n    <tr>\n      <th>4</th>\n      <td>Run!</td>\n      <td>Correte!</td>\n    </tr>\n  </tbody>\n</table>\n</div>"
          },
          "metadata": {}
        }
      ]
    },
    {
      "cell_type": "code",
      "source": [
        "def decontractions(phrase):\n",
        "    \"\"\"decontracted takes text and convert contractions into natural form.\n",
        "     ref: https://stackoverflow.com/questions/19790188/expanding-english-language-contractions-in-python/47091490#47091490\"\"\"\n",
        "    # specific\n",
        "    phrase = re.sub(r\"won\\'t\", \"will not\", phrase)\n",
        "    phrase = re.sub(r\"can\\'t\", \"can not\", phrase)\n",
        "    phrase = re.sub(r\"won\\’t\", \"will not\", phrase)\n",
        "    phrase = re.sub(r\"can\\’t\", \"can not\", phrase)\n",
        "\n",
        "    # general\n",
        "    phrase = re.sub(r\"n\\'t\", \" not\", phrase)\n",
        "    phrase = re.sub(r\"\\'re\", \" are\", phrase)\n",
        "    phrase = re.sub(r\"\\'s\", \" is\", phrase)\n",
        "    phrase = re.sub(r\"\\'d\", \" would\", phrase)\n",
        "    phrase = re.sub(r\"\\'ll\", \" will\", phrase)\n",
        "    phrase = re.sub(r\"\\'t\", \" not\", phrase)\n",
        "    phrase = re.sub(r\"\\'ve\", \" have\", phrase)\n",
        "    phrase = re.sub(r\"\\'m\", \" am\", phrase)\n",
        "\n",
        "    phrase = re.sub(r\"n\\’t\", \" not\", phrase)\n",
        "    phrase = re.sub(r\"\\’re\", \" are\", phrase)\n",
        "    phrase = re.sub(r\"\\’s\", \" is\", phrase)\n",
        "    phrase = re.sub(r\"\\’d\", \" would\", phrase)\n",
        "    phrase = re.sub(r\"\\’ll\", \" will\", phrase)\n",
        "    phrase = re.sub(r\"\\’t\", \" not\", phrase)\n",
        "    phrase = re.sub(r\"\\’ve\", \" have\", phrase)\n",
        "    phrase = re.sub(r\"\\’m\", \" am\", phrase)\n",
        "\n",
        "    return phrase\n",
        "\n",
        "def preprocess(text):\n",
        "    # convert all the text into lower letters\n",
        "    # use this function to remove the contractions: https://gist.github.com/anandborad/d410a49a493b56dace4f814ab5325bbd\n",
        "    # remove all the spacial characters: except space ' '\n",
        "    text = text.lower()\n",
        "    text = decontractions(text)\n",
        "    text = re.sub('[^A-Za-z0-9 ]+', '', text)\n",
        "    return text\n",
        "\n",
        "def preprocess_ita(text):\n",
        "    # convert all the text into lower letters\n",
        "    # remove the words betweent brakets ()\n",
        "    # remove these characters: {'$', ')', '?', '\"', '’', '.',  '°', '!', ';', '/', \"'\", '€', '%', ':', ',', '('}\n",
        "    # replace these spl characters with space: '\\u200b', '\\xa0', '-', '/'\n",
        "    # I have found these characters after observing the data points, feel free to explore more and see if you can do find more\n",
        "    # you are free to do more proprocessing\n",
        "    # note that the model will learn better with better preprocessed data \n",
        "    \n",
        "    text = text.lower()\n",
        "    text = decontractions(text)\n",
        "    text = re.sub('[$)\\?\"’.°!;\\'€%:,(/]', '', text)\n",
        "    text = re.sub('\\u200b', ' ', text)\n",
        "    text = re.sub('\\xa0', ' ', text)\n",
        "    text = re.sub('-', ' ', text)\n",
        "    return text\n",
        "\n",
        "\n",
        "data['english'] = data['english'].apply(preprocess)\n",
        "data['italian'] = data['italian'].apply(preprocess_ita)\n",
        "data.head()"
      ],
      "metadata": {
        "execution": {
          "iopub.status.busy": "2022-07-12T13:51:07.984283Z",
          "iopub.execute_input": "2022-07-12T13:51:07.984615Z",
          "iopub.status.idle": "2022-07-12T13:51:26.841708Z",
          "shell.execute_reply.started": "2022-07-12T13:51:07.984587Z",
          "shell.execute_reply": "2022-07-12T13:51:26.840758Z"
        },
        "trusted": true,
        "id": "CvNYCz05Ej5N",
        "outputId": "4f5b9cb6-8d21-4ac1-d3bd-e16a818aba16"
      },
      "execution_count": null,
      "outputs": [
        {
          "execution_count": 12,
          "output_type": "execute_result",
          "data": {
            "text/plain": "  english  italian\n0      hi     ciao\n1      hi     ciao\n2     run    corri\n3     run    corra\n4     run  correte",
            "text/html": "<div>\n<style scoped>\n    .dataframe tbody tr th:only-of-type {\n        vertical-align: middle;\n    }\n\n    .dataframe tbody tr th {\n        vertical-align: top;\n    }\n\n    .dataframe thead th {\n        text-align: right;\n    }\n</style>\n<table border=\"1\" class=\"dataframe\">\n  <thead>\n    <tr style=\"text-align: right;\">\n      <th></th>\n      <th>english</th>\n      <th>italian</th>\n    </tr>\n  </thead>\n  <tbody>\n    <tr>\n      <th>0</th>\n      <td>hi</td>\n      <td>ciao</td>\n    </tr>\n    <tr>\n      <th>1</th>\n      <td>hi</td>\n      <td>ciao</td>\n    </tr>\n    <tr>\n      <th>2</th>\n      <td>run</td>\n      <td>corri</td>\n    </tr>\n    <tr>\n      <th>3</th>\n      <td>run</td>\n      <td>corra</td>\n    </tr>\n    <tr>\n      <th>4</th>\n      <td>run</td>\n      <td>correte</td>\n    </tr>\n  </tbody>\n</table>\n</div>"
          },
          "metadata": {}
        }
      ]
    },
    {
      "cell_type": "code",
      "source": [
        "data = data.drop_duplicates(subset=['english','italian'])\n",
        "data = data.reset_index(drop=True)\n",
        "data.head()"
      ],
      "metadata": {
        "execution": {
          "iopub.status.busy": "2022-07-12T13:51:30.632757Z",
          "iopub.execute_input": "2022-07-12T13:51:30.633107Z",
          "iopub.status.idle": "2022-07-12T13:51:30.826352Z",
          "shell.execute_reply.started": "2022-07-12T13:51:30.633075Z",
          "shell.execute_reply": "2022-07-12T13:51:30.825318Z"
        },
        "trusted": true,
        "id": "D5QvOyipEj5Q",
        "outputId": "11190091-8b9b-47c5-b9ae-f8fa3132c24a"
      },
      "execution_count": null,
      "outputs": [
        {
          "execution_count": 13,
          "output_type": "execute_result",
          "data": {
            "text/plain": "  english  italian\n0      hi     ciao\n1     run    corri\n2     run    corra\n3     run  correte\n4     who      chi",
            "text/html": "<div>\n<style scoped>\n    .dataframe tbody tr th:only-of-type {\n        vertical-align: middle;\n    }\n\n    .dataframe tbody tr th {\n        vertical-align: top;\n    }\n\n    .dataframe thead th {\n        text-align: right;\n    }\n</style>\n<table border=\"1\" class=\"dataframe\">\n  <thead>\n    <tr style=\"text-align: right;\">\n      <th></th>\n      <th>english</th>\n      <th>italian</th>\n    </tr>\n  </thead>\n  <tbody>\n    <tr>\n      <th>0</th>\n      <td>hi</td>\n      <td>ciao</td>\n    </tr>\n    <tr>\n      <th>1</th>\n      <td>run</td>\n      <td>corri</td>\n    </tr>\n    <tr>\n      <th>2</th>\n      <td>run</td>\n      <td>corra</td>\n    </tr>\n    <tr>\n      <th>3</th>\n      <td>run</td>\n      <td>correte</td>\n    </tr>\n    <tr>\n      <th>4</th>\n      <td>who</td>\n      <td>chi</td>\n    </tr>\n  </tbody>\n</table>\n</div>"
          },
          "metadata": {}
        }
      ]
    },
    {
      "cell_type": "code",
      "source": [
        "data['italian_len'] = data['italian'].str.split().apply(len)\n",
        "data = data[data['italian_len'] < 25]\n",
        "\n",
        "data['english_len'] = data['english'].str.split().apply(len)\n",
        "data = data[data['english_len'] < 25]\n",
        "\n",
        "data['english_inp'] = '<start> ' + data['english'].astype(str)\n",
        "data['english_out'] = data['english'].astype(str) + ' <end>'\n",
        "data['italian'] = '<start> ' + data['italian'].astype(str) + ' <end>'\n",
        "\n",
        "data = data.drop(['english','italian_len','english_len'], axis=1)\n",
        "data.head()"
      ],
      "metadata": {
        "execution": {
          "iopub.status.busy": "2022-07-12T13:51:36.054025Z",
          "iopub.execute_input": "2022-07-12T13:51:36.054564Z",
          "iopub.status.idle": "2022-07-12T13:51:38.391732Z",
          "shell.execute_reply.started": "2022-07-12T13:51:36.054532Z",
          "shell.execute_reply": "2022-07-12T13:51:38.390883Z"
        },
        "trusted": true,
        "id": "zBjJhhlpEj5R",
        "outputId": "9132dcdd-ffa7-40ad-cad6-b1cde0e1fe7c"
      },
      "execution_count": null,
      "outputs": [
        {
          "execution_count": 14,
          "output_type": "execute_result",
          "data": {
            "text/plain": "                 italian  english_inp english_out\n0     <start> ciao <end>   <start> hi    hi <end>\n1    <start> corri <end>  <start> run   run <end>\n2    <start> corra <end>  <start> run   run <end>\n3  <start> correte <end>  <start> run   run <end>\n4      <start> chi <end>  <start> who   who <end>",
            "text/html": "<div>\n<style scoped>\n    .dataframe tbody tr th:only-of-type {\n        vertical-align: middle;\n    }\n\n    .dataframe tbody tr th {\n        vertical-align: top;\n    }\n\n    .dataframe thead th {\n        text-align: right;\n    }\n</style>\n<table border=\"1\" class=\"dataframe\">\n  <thead>\n    <tr style=\"text-align: right;\">\n      <th></th>\n      <th>italian</th>\n      <th>english_inp</th>\n      <th>english_out</th>\n    </tr>\n  </thead>\n  <tbody>\n    <tr>\n      <th>0</th>\n      <td>&lt;start&gt; ciao &lt;end&gt;</td>\n      <td>&lt;start&gt; hi</td>\n      <td>hi &lt;end&gt;</td>\n    </tr>\n    <tr>\n      <th>1</th>\n      <td>&lt;start&gt; corri &lt;end&gt;</td>\n      <td>&lt;start&gt; run</td>\n      <td>run &lt;end&gt;</td>\n    </tr>\n    <tr>\n      <th>2</th>\n      <td>&lt;start&gt; corra &lt;end&gt;</td>\n      <td>&lt;start&gt; run</td>\n      <td>run &lt;end&gt;</td>\n    </tr>\n    <tr>\n      <th>3</th>\n      <td>&lt;start&gt; correte &lt;end&gt;</td>\n      <td>&lt;start&gt; run</td>\n      <td>run &lt;end&gt;</td>\n    </tr>\n    <tr>\n      <th>4</th>\n      <td>&lt;start&gt; chi &lt;end&gt;</td>\n      <td>&lt;start&gt; who</td>\n      <td>who &lt;end&gt;</td>\n    </tr>\n  </tbody>\n</table>\n</div>"
          },
          "metadata": {}
        }
      ]
    },
    {
      "cell_type": "code",
      "source": [
        "from sklearn.model_selection import train_test_split\n",
        "train, validation = train_test_split(data, test_size=0.2)"
      ],
      "metadata": {
        "execution": {
          "iopub.status.busy": "2022-07-12T14:07:55.210586Z",
          "iopub.execute_input": "2022-07-12T14:07:55.210963Z",
          "iopub.status.idle": "2022-07-12T14:07:55.314488Z",
          "shell.execute_reply.started": "2022-07-12T14:07:55.210926Z",
          "shell.execute_reply": "2022-07-12T14:07:55.313383Z"
        },
        "trusted": true,
        "id": "wutp8tJcEj5S"
      },
      "execution_count": null,
      "outputs": []
    },
    {
      "cell_type": "code",
      "source": [
        "print(train.shape, validation.shape)\n",
        "train.iloc[0]['english_inp']= str(train.iloc[0]['english_inp'])+' <end>'\n",
        "train.iloc[0]['english_out']= str(train.iloc[0]['english_out'])+' <end>'"
      ],
      "metadata": {
        "execution": {
          "iopub.status.busy": "2022-07-12T14:07:58.847506Z",
          "iopub.execute_input": "2022-07-12T14:07:58.848404Z",
          "iopub.status.idle": "2022-07-12T14:07:58.855365Z",
          "shell.execute_reply.started": "2022-07-12T14:07:58.848364Z",
          "shell.execute_reply": "2022-07-12T14:07:58.854193Z"
        },
        "trusted": true,
        "id": "vHo3Fqw7Ej5T",
        "outputId": "88dadae8-7b5c-41f8-e0f6-d8bbac8fc5b5"
      },
      "execution_count": null,
      "outputs": [
        {
          "name": "stdout",
          "text": "(280740, 3) (70185, 3)\n",
          "output_type": "stream"
        }
      ]
    },
    {
      "cell_type": "code",
      "source": [
        "train.head()"
      ],
      "metadata": {
        "execution": {
          "iopub.status.busy": "2022-07-12T07:40:52.721690Z",
          "iopub.execute_input": "2022-07-12T07:40:52.722155Z",
          "iopub.status.idle": "2022-07-12T07:40:52.737860Z",
          "shell.execute_reply.started": "2022-07-12T07:40:52.722114Z",
          "shell.execute_reply": "2022-07-12T07:40:52.736910Z"
        },
        "trusted": true,
        "id": "TT8JWvCxEj5U",
        "outputId": "e5295af3-2c2b-444c-faf5-9d42cec492a5"
      },
      "execution_count": null,
      "outputs": [
        {
          "execution_count": 16,
          "output_type": "execute_result",
          "data": {
            "text/plain": "                                                  italian  \\\n239709  <start> non dimentichi di chiudere la porta <end>   \n47529                 <start> io conosco quel suono <end>   \n332035  <start> non sono il fidanzato di mary sono sol...   \n137931            <start> è inutile chiederlo a tom <end>   \n145546            <start> dovreste andare lì adesso <end>   \n\n                                              english_inp  \\\n239709      <start> do not forget to close the door <end>   \n47529                           <start> i know that sound   \n332035  <start> i am not mary is boyfriend i am just a...   \n137931                   <start> it is useless to ask tom   \n145546                    <start> you should go there now   \n\n                                              english_out  \n239709        do not forget to close the door <end> <end>  \n47529                             i know that sound <end>  \n332035  i am not mary is boyfriend i am just a friend ...  \n137931                     it is useless to ask tom <end>  \n145546                      you should go there now <end>  ",
            "text/html": "<div>\n<style scoped>\n    .dataframe tbody tr th:only-of-type {\n        vertical-align: middle;\n    }\n\n    .dataframe tbody tr th {\n        vertical-align: top;\n    }\n\n    .dataframe thead th {\n        text-align: right;\n    }\n</style>\n<table border=\"1\" class=\"dataframe\">\n  <thead>\n    <tr style=\"text-align: right;\">\n      <th></th>\n      <th>italian</th>\n      <th>english_inp</th>\n      <th>english_out</th>\n    </tr>\n  </thead>\n  <tbody>\n    <tr>\n      <th>239709</th>\n      <td>&lt;start&gt; non dimentichi di chiudere la porta &lt;end&gt;</td>\n      <td>&lt;start&gt; do not forget to close the door &lt;end&gt;</td>\n      <td>do not forget to close the door &lt;end&gt; &lt;end&gt;</td>\n    </tr>\n    <tr>\n      <th>47529</th>\n      <td>&lt;start&gt; io conosco quel suono &lt;end&gt;</td>\n      <td>&lt;start&gt; i know that sound</td>\n      <td>i know that sound &lt;end&gt;</td>\n    </tr>\n    <tr>\n      <th>332035</th>\n      <td>&lt;start&gt; non sono il fidanzato di mary sono sol...</td>\n      <td>&lt;start&gt; i am not mary is boyfriend i am just a...</td>\n      <td>i am not mary is boyfriend i am just a friend ...</td>\n    </tr>\n    <tr>\n      <th>137931</th>\n      <td>&lt;start&gt; è inutile chiederlo a tom &lt;end&gt;</td>\n      <td>&lt;start&gt; it is useless to ask tom</td>\n      <td>it is useless to ask tom &lt;end&gt;</td>\n    </tr>\n    <tr>\n      <th>145546</th>\n      <td>&lt;start&gt; dovreste andare lì adesso &lt;end&gt;</td>\n      <td>&lt;start&gt; you should go there now</td>\n      <td>you should go there now &lt;end&gt;</td>\n    </tr>\n  </tbody>\n</table>\n</div>"
          },
          "metadata": {}
        }
      ]
    },
    {
      "cell_type": "code",
      "source": [
        "validation.head()"
      ],
      "metadata": {
        "execution": {
          "iopub.status.busy": "2022-07-12T07:41:01.064171Z",
          "iopub.execute_input": "2022-07-12T07:41:01.064527Z",
          "iopub.status.idle": "2022-07-12T07:41:01.075498Z",
          "shell.execute_reply.started": "2022-07-12T07:41:01.064494Z",
          "shell.execute_reply": "2022-07-12T07:41:01.074471Z"
        },
        "trusted": true,
        "id": "tEErVlqgEj5V",
        "outputId": "bf8cc37a-5bdd-472a-b5b5-96db947e590e"
      },
      "execution_count": null,
      "outputs": [
        {
          "execution_count": 17,
          "output_type": "execute_result",
          "data": {
            "text/plain": "                                                  italian  \\\n202131      <start> per favore scopri dove si trova <end>   \n148016         <start> mi dia una bottiglia di vino <end>   \n336265  <start> io devo fare i miei compiti invece di ...   \n118724              <start> ho un po di raffreddore <end>   \n243651  <start> sono convinta che tom non sia colpevol...   \n\n                                              english_inp  \\\n202131                <start> please find out where he is   \n148016                   <start> give me a bottle of wine   \n336265  <start> i have to do my homework instead of go...   \n118724                     <start> i have a bit of a cold   \n243651           <start> i am convinced tom is not guilty   \n\n                                              english_out  \n202131                  please find out where he is <end>  \n148016                     give me a bottle of wine <end>  \n336265  i have to do my homework instead of going out ...  \n118724                       i have a bit of a cold <end>  \n243651             i am convinced tom is not guilty <end>  ",
            "text/html": "<div>\n<style scoped>\n    .dataframe tbody tr th:only-of-type {\n        vertical-align: middle;\n    }\n\n    .dataframe tbody tr th {\n        vertical-align: top;\n    }\n\n    .dataframe thead th {\n        text-align: right;\n    }\n</style>\n<table border=\"1\" class=\"dataframe\">\n  <thead>\n    <tr style=\"text-align: right;\">\n      <th></th>\n      <th>italian</th>\n      <th>english_inp</th>\n      <th>english_out</th>\n    </tr>\n  </thead>\n  <tbody>\n    <tr>\n      <th>202131</th>\n      <td>&lt;start&gt; per favore scopri dove si trova &lt;end&gt;</td>\n      <td>&lt;start&gt; please find out where he is</td>\n      <td>please find out where he is &lt;end&gt;</td>\n    </tr>\n    <tr>\n      <th>148016</th>\n      <td>&lt;start&gt; mi dia una bottiglia di vino &lt;end&gt;</td>\n      <td>&lt;start&gt; give me a bottle of wine</td>\n      <td>give me a bottle of wine &lt;end&gt;</td>\n    </tr>\n    <tr>\n      <th>336265</th>\n      <td>&lt;start&gt; io devo fare i miei compiti invece di ...</td>\n      <td>&lt;start&gt; i have to do my homework instead of go...</td>\n      <td>i have to do my homework instead of going out ...</td>\n    </tr>\n    <tr>\n      <th>118724</th>\n      <td>&lt;start&gt; ho un po di raffreddore &lt;end&gt;</td>\n      <td>&lt;start&gt; i have a bit of a cold</td>\n      <td>i have a bit of a cold &lt;end&gt;</td>\n    </tr>\n    <tr>\n      <th>243651</th>\n      <td>&lt;start&gt; sono convinta che tom non sia colpevol...</td>\n      <td>&lt;start&gt; i am convinced tom is not guilty</td>\n      <td>i am convinced tom is not guilty &lt;end&gt;</td>\n    </tr>\n  </tbody>\n</table>\n</div>"
          },
          "metadata": {}
        }
      ]
    },
    {
      "cell_type": "code",
      "source": [
        "ita_lengths = train['italian'].str.split().apply(len)\n",
        "eng_lengths = train['english_inp'].str.split().apply(len)\n",
        "import seaborn as sns\n",
        "sns.kdeplot(ita_lengths)\n",
        "plt.show()\n",
        "sns.kdeplot(eng_lengths)\n",
        "plt.show()"
      ],
      "metadata": {
        "execution": {
          "iopub.status.busy": "2022-07-12T14:08:05.105628Z",
          "iopub.execute_input": "2022-07-12T14:08:05.105992Z",
          "iopub.status.idle": "2022-07-12T14:08:09.442753Z",
          "shell.execute_reply.started": "2022-07-12T14:08:05.105961Z",
          "shell.execute_reply": "2022-07-12T14:08:09.441803Z"
        },
        "trusted": true,
        "id": "WJNnFghcEj5V",
        "outputId": "6d3e75fd-a609-432c-cdaf-8815887f650c"
      },
      "execution_count": null,
      "outputs": [
        {
          "output_type": "display_data",
          "data": {
            "text/plain": "<Figure size 432x288 with 1 Axes>",
            "image/png": "[encoded data removed]"
          },
          "metadata": {
            "needs_background": "light"
          }
        },
        {
          "output_type": "display_data",
          "data": {
            "text/plain": "<Figure size 432x288 with 1 Axes>",
            "image/png": "[encoded data removed]"
          },
          "metadata": {
            "needs_background": "light"
          }
        }
      ]
    },
    {
      "cell_type": "code",
      "source": [
        "tknizer_ita = Tokenizer(filters='!\"#$%&()*+,-./:;=?@[\\\\]^_`{|}~\\t\\n')\n",
        "tknizer_ita.fit_on_texts(train['italian'].values)\n",
        "tknizer_eng = Tokenizer(filters='!\"#$%&()*+,-./:;=?@[\\\\]^_`{|}~\\t\\n')\n",
        "tknizer_eng.fit_on_texts(train['english_inp'].values)\n",
        "vocab_size_eng=len(tknizer_eng.word_index.keys())\n",
        "print(vocab_size_eng)\n",
        "vocab_size_ita=len(tknizer_ita.word_index.keys())\n",
        "print(vocab_size_ita)"
      ],
      "metadata": {
        "execution": {
          "iopub.status.busy": "2022-07-12T14:08:09.444471Z",
          "iopub.execute_input": "2022-07-12T14:08:09.444923Z",
          "iopub.status.idle": "2022-07-12T14:08:16.767356Z",
          "shell.execute_reply.started": "2022-07-12T14:08:09.444887Z",
          "shell.execute_reply": "2022-07-12T14:08:16.766263Z"
        },
        "trusted": true,
        "id": "6VNE8f8iEj5W",
        "outputId": "95fb7c50-615e-4ea3-ba6b-76e825630523"
      },
      "execution_count": null,
      "outputs": [
        {
          "name": "stdout",
          "text": "13099\n26720\n",
          "output_type": "stream"
        }
      ]
    },
    {
      "cell_type": "code",
      "source": [
        "tknizer_eng.word_index['<start>'], tknizer_eng.word_index['<end>']"
      ],
      "metadata": {
        "execution": {
          "iopub.status.busy": "2022-07-12T14:08:16.769216Z",
          "iopub.execute_input": "2022-07-12T14:08:16.769766Z",
          "iopub.status.idle": "2022-07-12T14:08:16.777038Z",
          "shell.execute_reply.started": "2022-07-12T14:08:16.769727Z",
          "shell.execute_reply": "2022-07-12T14:08:16.775881Z"
        },
        "trusted": true,
        "id": "jRGxZ7s7Ej5W",
        "outputId": "2461974d-5513-4348-a9dc-4f64d17ac6b9"
      },
      "execution_count": null,
      "outputs": [
        {
          "execution_count": 32,
          "output_type": "execute_result",
          "data": {
            "text/plain": "(1, 10337)"
          },
          "metadata": {}
        }
      ]
    },
    {
      "cell_type": "markdown",
      "source": [
        "## <font color='blue'>**Implement custom encoder decoder**</font"
      ],
      "metadata": {
        "id": "_ZNCmC4vEj5X"
      }
    },
    {
      "cell_type": "markdown",
      "source": [
        "<font color='blue'>**Encoder**</font>"
      ],
      "metadata": {
        "id": "Uz2bBvjZEj5Y"
      }
    },
    {
      "cell_type": "code",
      "source": [
        "class Encoder(tf.keras.Model):\n",
        "\n",
        "    def __init__(self, inp_vocab_size, embedding_size, lstm_size, input_length):\n",
        "        \n",
        "        super().__init__()\n",
        "        self.inp_vocab_size = inp_vocab_size\n",
        "        self.embedding_size = embedding_size\n",
        "        self.input_length = input_length\n",
        "        self.lstm_size = lstm_size\n",
        "        self.embed = Embedding(input_dim = self.inp_vocab_size, output_dim = self.embedding_size,\n",
        "                               input_length = self.input_length, name=\"Encoder_Embedding\")\n",
        "        self.lstm = LSTM(units = self.lstm_size, return_sequences = True, return_state = True, name=\"Encoder_LSTM\")\n",
        "        \n",
        "    def call(self, input_sequence, states = None):\n",
        "          \n",
        "        embed_out = self.embed(input_sequence)\n",
        "        lstm_out, lstm_h, lstm_c = self.lstm(embed_out, states)\n",
        "        return lstm_out, lstm_h, lstm_c\n",
        "\n",
        "    def initialize_states(self,batch_size):\n",
        "        states_h = tf.keras.backend.zeros((batch_size, self.lstm_size))\n",
        "        state_c = tf.keras.backend.zeros((batch_size, self.lstm_size))\n",
        "        return states_h, state_c   \n",
        "\n",
        "      \n",
        "class Decoder(tf.keras.Model):\n",
        "    def __init__(self,out_vocab_size,embedding_size,lstm_size,input_length):\n",
        "        super().__init__()\n",
        "        self.inp_vocab_size = out_vocab_size\n",
        "        self.embedding_size = embedding_size\n",
        "        self.input_length = input_length\n",
        "        self.lstm_size = lstm_size\n",
        "        self.embed = Embedding(input_dim = self.inp_vocab_size, output_dim = self.embedding_size,\n",
        "                               input_length = self.input_length, name=\"Decoder_Embedding\")\n",
        "        self.lstm = LSTM(units = self.lstm_size, return_sequences = True, return_state = True, name=\"Decoder_LSTM\")\n",
        "  \n",
        "    def call(self, output_sequence, initial_states):\n",
        "        embed_out = self.embed(output_sequence)\n",
        "        lstm_out, lstm_h, lstm_c = self.lstm(embed_out, initial_states)\n",
        "        return lstm_out, lstm_h, lstm_c  \n"
      ],
      "metadata": {
        "execution": {
          "iopub.status.busy": "2022-07-12T14:08:25.134944Z",
          "iopub.execute_input": "2022-07-12T14:08:25.135374Z",
          "iopub.status.idle": "2022-07-12T14:08:25.152681Z",
          "shell.execute_reply.started": "2022-07-12T14:08:25.135338Z",
          "shell.execute_reply": "2022-07-12T14:08:25.151601Z"
        },
        "trusted": true,
        "id": "bdPapspPEj5Y"
      },
      "execution_count": null,
      "outputs": []
    },
    {
      "cell_type": "code",
      "source": [
        "def grader_check_encoder():\n",
        "    '''\n",
        "        vocab-size: Unique words of the input language,\n",
        "        embedding_size: output embedding dimension for each word after embedding layer,\n",
        "        lstm_size: Number of lstm units,\n",
        "        input_length: Length of the input sentence,\n",
        "        batch_size\n",
        "    '''\n",
        "    vocab_size=10\n",
        "    embedding_size=20\n",
        "    lstm_size=32\n",
        "    input_length=10\n",
        "    batch_size=16\n",
        "    #Intialzing encoder \n",
        "    encoder=Encoder(vocab_size,embedding_size,lstm_size,input_length)\n",
        "    input_sequence=tf.random.uniform(shape=[batch_size,input_length],maxval=vocab_size,minval=0,dtype=tf.int32)\n",
        "    #Intializing encoder initial states\n",
        "    initial_state=encoder.initialize_states(batch_size)\n",
        "    \n",
        "    encoder_output,state_h,state_c=encoder(input_sequence,initial_state)\n",
        "    \n",
        "    assert(encoder_output.shape==(batch_size,input_length,lstm_size) and state_h.shape==(batch_size,lstm_size) and state_c.shape==(batch_size,lstm_size))\n",
        "    return True\n",
        "print(grader_check_encoder())"
      ],
      "metadata": {
        "execution": {
          "iopub.status.busy": "2022-07-12T14:49:58.784789Z",
          "iopub.execute_input": "2022-07-12T14:49:58.785548Z",
          "iopub.status.idle": "2022-07-12T14:49:58.815809Z",
          "shell.execute_reply.started": "2022-07-12T14:49:58.785494Z",
          "shell.execute_reply": "2022-07-12T14:49:58.814762Z"
        },
        "trusted": true,
        "id": "90pRhxP8Ej5Z",
        "outputId": "fa6f35b6-ef9e-4719-a376-be8efc16bc99"
      },
      "execution_count": null,
      "outputs": [
        {
          "name": "stdout",
          "text": "True\n",
          "output_type": "stream"
        }
      ]
    },
    {
      "cell_type": "code",
      "source": [
        "def grader_decoder():\n",
        "    '''\n",
        "        out_vocab_size: Unique words of the target language,\n",
        "        embedding_size: output embedding dimension for each word after embedding layer,\n",
        "        dec_units: Number of lstm units in decoder,\n",
        "        input_length: Length of the input sentence,\n",
        "        batch_size\n",
        "        \n",
        "    \n",
        "    '''\n",
        "    out_vocab_size=13 \n",
        "    embedding_dim=12 \n",
        "    input_length=10\n",
        "    dec_units=16 \n",
        "    batch_size=32\n",
        "    \n",
        "    target_sentences=tf.random.uniform(shape=(batch_size,input_length),maxval=10,minval=0,dtype=tf.int32)\n",
        "    encoder_output=tf.random.uniform(shape=[batch_size,input_length,dec_units])\n",
        "    state_h=tf.random.uniform(shape=[batch_size,dec_units])\n",
        "    state_c=tf.random.uniform(shape=[batch_size,dec_units])\n",
        "    states=[state_h,state_c]\n",
        "    decoder=Decoder(out_vocab_size, embedding_dim, dec_units,input_length )\n",
        "    output,_,_=decoder(target_sentences, states)\n",
        "    assert(output.shape==(batch_size,input_length,dec_units))\n",
        "    return True\n",
        "print(grader_decoder())"
      ],
      "metadata": {
        "execution": {
          "iopub.status.busy": "2022-07-12T14:50:40.836495Z",
          "iopub.execute_input": "2022-07-12T14:50:40.836826Z",
          "iopub.status.idle": "2022-07-12T14:50:40.863899Z",
          "shell.execute_reply.started": "2022-07-12T14:50:40.836797Z",
          "shell.execute_reply": "2022-07-12T14:50:40.863024Z"
        },
        "trusted": true,
        "id": "krylJ05KEj5a",
        "outputId": "4eba8cb8-88ec-4c8b-9124-dba71e047418"
      },
      "execution_count": null,
      "outputs": [
        {
          "name": "stdout",
          "text": "True\n",
          "output_type": "stream"
        }
      ]
    },
    {
      "cell_type": "code",
      "source": [
        "class Encoder_decoder(tf.keras.Model):\n",
        "    \n",
        "    def __init__(self, encoder_inputs_length, decoder_inputs_length, output_vocab_size):\n",
        "        super().__init__()\n",
        "        self.encoder = Encoder(inp_vocab_size = vocab_size_ita+1, embedding_size = 300, input_length = encoder_inputs_length,\n",
        "                               lstm_size = 512)\n",
        "        self.decoder = Decoder(out_vocab_size = vocab_size_eng+1, embedding_size = 300, input_length = decoder_inputs_length,\n",
        "                               lstm_size = 512)\n",
        "        self.dense = Dense(output_vocab_size, activation = 'softmax')\n",
        "    \n",
        "    def call(self, data):\n",
        "        inp, targ = data[0], data[1]\n",
        "        enc_out, state_h, state_c = self.encoder(inp)\n",
        "        dec_out, _, _ = self.decoder(targ, [state_h, state_c])\n",
        "        out = self.dense(dec_out)\n",
        "        return out "
      ],
      "metadata": {
        "execution": {
          "iopub.status.busy": "2022-07-12T14:08:30.845559Z",
          "iopub.execute_input": "2022-07-12T14:08:30.845916Z",
          "iopub.status.idle": "2022-07-12T14:08:30.853626Z",
          "shell.execute_reply.started": "2022-07-12T14:08:30.845879Z",
          "shell.execute_reply": "2022-07-12T14:08:30.852465Z"
        },
        "trusted": true,
        "id": "tXXQniMGEj5a"
      },
      "execution_count": null,
      "outputs": []
    },
    {
      "cell_type": "code",
      "source": [
        "class Dataset:\n",
        "    def __init__(self, data, tknizer_ita, tknizer_eng, max_len):\n",
        "        self.encoder_inps = data['italian'].values\n",
        "        self.decoder_inps = data['english_inp'].values\n",
        "        self.decoder_outs = data['english_out'].values\n",
        "        self.tknizer_eng = tknizer_eng\n",
        "        self.tknizer_ita = tknizer_ita\n",
        "        self.max_len = max_len\n",
        "\n",
        "    def __getitem__(self, i):\n",
        "        self.encoder_seq = self.tknizer_ita.texts_to_sequences([self.encoder_inps[i]]) # need to pass list of values\n",
        "        self.decoder_inp_seq = self.tknizer_eng.texts_to_sequences([self.decoder_inps[i]])\n",
        "        self.decoder_out_seq = self.tknizer_eng.texts_to_sequences([self.decoder_outs[i]])\n",
        "\n",
        "        self.encoder_seq = pad_sequences(self.encoder_seq, maxlen=self.max_len, dtype='int32', padding='post')\n",
        "        self.decoder_inp_seq = pad_sequences(self.decoder_inp_seq, maxlen=self.max_len+1, dtype='int32', padding='post')\n",
        "        self.decoder_out_seq = pad_sequences(self.decoder_out_seq, maxlen=self.max_len+1, dtype='int32', padding='post')\n",
        "        return self.encoder_seq, self.decoder_inp_seq, self.decoder_out_seq\n",
        "\n",
        "    def __len__(self): # your model.fit_gen requires this function\n",
        "        return len(self.encoder_inps)\n",
        "\n",
        "    \n",
        "class Dataloder(tf.keras.utils.Sequence):    \n",
        "    def __init__(self, dataset, batch_size=1):\n",
        "        self.dataset = dataset\n",
        "        self.batch_size = batch_size\n",
        "        self.indexes = np.arange(len(self.dataset.encoder_inps))\n",
        "\n",
        "\n",
        "    def __getitem__(self, i):\n",
        "        start = i * self.batch_size\n",
        "        stop = (i + 1) * self.batch_size\n",
        "        data = []\n",
        "        for j in range(start, stop):\n",
        "            data.append(self.dataset[j])\n",
        "\n",
        "        batch = [np.squeeze(np.stack(samples, axis=1), axis=0) for samples in zip(*data)]\n",
        "        return tuple([[batch[0],batch[1]],batch[2]])\n",
        "\n",
        "    def __len__(self):\n",
        "        return len(self.indexes) // self.batch_size\n",
        "\n",
        "    def on_epoch_end(self):\n",
        "        self.indexes = np.random.permutation(self.indexes)"
      ],
      "metadata": {
        "execution": {
          "iopub.status.busy": "2022-07-12T14:08:32.702043Z",
          "iopub.execute_input": "2022-07-12T14:08:32.702391Z",
          "iopub.status.idle": "2022-07-12T14:08:32.717549Z",
          "shell.execute_reply.started": "2022-07-12T14:08:32.702362Z",
          "shell.execute_reply": "2022-07-12T14:08:32.716529Z"
        },
        "trusted": true,
        "id": "aXmvHJoTEj5b"
      },
      "execution_count": null,
      "outputs": []
    },
    {
      "cell_type": "code",
      "source": [
        "batch_size = 1024\n",
        "train_dataset = Dataset(train, tknizer_ita, tknizer_eng, 20)\n",
        "test_dataset  = Dataset(validation, tknizer_ita, tknizer_eng, 20)\n",
        "\n",
        "train_dataloader = Dataloder(train_dataset, batch_size=batch_size)\n",
        "test_dataloader = Dataloder(test_dataset, batch_size=batch_size)\n",
        "\n",
        "\n",
        "print(train_dataloader[0][0][0].shape, train_dataloader[0][0][1].shape, train_dataloader[0][1].shape)"
      ],
      "metadata": {
        "execution": {
          "iopub.status.busy": "2022-07-12T14:08:34.596156Z",
          "iopub.execute_input": "2022-07-12T14:08:34.596923Z",
          "iopub.status.idle": "2022-07-12T14:08:35.011014Z",
          "shell.execute_reply.started": "2022-07-12T14:08:34.596849Z",
          "shell.execute_reply": "2022-07-12T14:08:35.010100Z"
        },
        "trusted": true,
        "id": "sfUXEaW-Ej5c",
        "outputId": "486f892d-4a28-4a1e-e4cb-45843dcaa6f1"
      },
      "execution_count": null,
      "outputs": [
        {
          "name": "stdout",
          "text": "(1024, 20) (1024, 21) (1024, 21)\n",
          "output_type": "stream"
        }
      ]
    },
    {
      "cell_type": "code",
      "source": [
        "## defining callbacks and model and then compiling it\n",
        "log_dir = \"logs/fit/\"\n",
        "earl_stp = tf.keras.callbacks.EarlyStopping(patience = 3, restore_best_weights = True)\n",
        "\n",
        "model1 = Encoder_decoder(encoder_inputs_length = 20, decoder_inputs_length = 20, output_vocab_size = vocab_size_eng)          \n",
        "model1.compile('adam', loss = 'sparse_categorical_crossentropy')"
      ],
      "metadata": {
        "execution": {
          "iopub.status.busy": "2022-07-12T14:08:41.195755Z",
          "iopub.execute_input": "2022-07-12T14:08:41.196174Z",
          "iopub.status.idle": "2022-07-12T14:08:43.921914Z",
          "shell.execute_reply.started": "2022-07-12T14:08:41.196140Z",
          "shell.execute_reply": "2022-07-12T14:08:43.921037Z"
        },
        "trusted": true,
        "id": "XWhI-JZUEj5c",
        "outputId": "9a93dff8-5233-4758-db7d-35a06443340f"
      },
      "execution_count": null,
      "outputs": [
        {
          "name": "stderr",
          "text": "2022-07-12 14:08:41.295168: I tensorflow/stream_executor/cuda/cuda_gpu_executor.cc:937] successful NUMA node read from SysFS had negative value (-1), but there must be at least one NUMA node, so returning NUMA node zero\n2022-07-12 14:08:41.411260: I tensorflow/stream_executor/cuda/cuda_gpu_executor.cc:937] successful NUMA node read from SysFS had negative value (-1), but there must be at least one NUMA node, so returning NUMA node zero\n2022-07-12 14:08:41.412078: I tensorflow/stream_executor/cuda/cuda_gpu_executor.cc:937] successful NUMA node read from SysFS had negative value (-1), but there must be at least one NUMA node, so returning NUMA node zero\n2022-07-12 14:08:41.413713: I tensorflow/core/platform/cpu_feature_guard.cc:142] This TensorFlow binary is optimized with oneAPI Deep Neural Network Library (oneDNN) to use the following CPU instructions in performance-critical operations:  AVX2 AVX512F FMA\nTo enable them in other operations, rebuild TensorFlow with the appropriate compiler flags.\n2022-07-12 14:08:41.414010: I tensorflow/stream_executor/cuda/cuda_gpu_executor.cc:937] successful NUMA node read from SysFS had negative value (-1), but there must be at least one NUMA node, so returning NUMA node zero\n2022-07-12 14:08:41.414688: I tensorflow/stream_executor/cuda/cuda_gpu_executor.cc:937] successful NUMA node read from SysFS had negative value (-1), but there must be at least one NUMA node, so returning NUMA node zero\n2022-07-12 14:08:41.415422: I tensorflow/stream_executor/cuda/cuda_gpu_executor.cc:937] successful NUMA node read from SysFS had negative value (-1), but there must be at least one NUMA node, so returning NUMA node zero\n2022-07-12 14:08:43.566783: I tensorflow/stream_executor/cuda/cuda_gpu_executor.cc:937] successful NUMA node read from SysFS had negative value (-1), but there must be at least one NUMA node, so returning NUMA node zero\n2022-07-12 14:08:43.567598: I tensorflow/stream_executor/cuda/cuda_gpu_executor.cc:937] successful NUMA node read from SysFS had negative value (-1), but there must be at least one NUMA node, so returning NUMA node zero\n2022-07-12 14:08:43.568295: I tensorflow/stream_executor/cuda/cuda_gpu_executor.cc:937] successful NUMA node read from SysFS had negative value (-1), but there must be at least one NUMA node, so returning NUMA node zero\n2022-07-12 14:08:43.568950: I tensorflow/core/common_runtime/gpu/gpu_device.cc:1510] Created device /job:localhost/replica:0/task:0/device:GPU:0 with 15403 MB memory:  -> device: 0, name: Tesla P100-PCIE-16GB, pci bus id: 0000:00:04.0, compute capability: 6.0\n",
          "output_type": "stream"
        }
      ]
    },
    {
      "cell_type": "code",
      "source": [
        "model1.fit(train_dataloader, validation_data=test_dataloader,\n",
        "           steps_per_epoch = 150, epochs=10,\n",
        "           validation_steps = 40, callbacks = [earl_stp])\n"
      ],
      "metadata": {
        "execution": {
          "iopub.status.busy": "2022-07-12T14:28:56.377894Z",
          "iopub.execute_input": "2022-07-12T14:28:56.378545Z",
          "iopub.status.idle": "2022-07-12T14:37:11.601888Z",
          "shell.execute_reply.started": "2022-07-12T14:28:56.378512Z",
          "shell.execute_reply": "2022-07-12T14:37:11.600778Z"
        },
        "trusted": true,
        "id": "oxu8x-zrEj5c",
        "outputId": "62ce5170-267e-416a-d923-d54902ac0c2e"
      },
      "execution_count": null,
      "outputs": [
        {
          "name": "stdout",
          "text": "Epoch 1/10\n150/150 [==============================] - 45s 297ms/step - loss: 0.5817 - val_loss: 0.5792\nEpoch 2/10\n150/150 [==============================] - 44s 295ms/step - loss: 0.5086 - val_loss: 0.5181\nEpoch 3/10\n150/150 [==============================] - 39s 262ms/step - loss: 0.4411 - val_loss: 0.4587\nEpoch 4/10\n150/150 [==============================] - 40s 263ms/step - loss: 0.3795 - val_loss: 0.4089\nEpoch 5/10\n150/150 [==============================] - 40s 264ms/step - loss: 0.3287 - val_loss: 0.3672\nEpoch 6/10\n150/150 [==============================] - 40s 264ms/step - loss: 0.2854 - val_loss: 0.3346\nEpoch 7/10\n150/150 [==============================] - 44s 294ms/step - loss: 0.2507 - val_loss: 0.3074\nEpoch 8/10\n150/150 [==============================] - 40s 263ms/step - loss: 0.2204 - val_loss: 0.2871\nEpoch 9/10\n150/150 [==============================] - 40s 267ms/step - loss: 0.1949 - val_loss: 0.2699\nEpoch 10/10\n150/150 [==============================] - 44s 296ms/step - loss: 0.1778 - val_loss: 0.2540\n",
          "output_type": "stream"
        },
        {
          "execution_count": 50,
          "output_type": "execute_result",
          "data": {
            "text/plain": "<keras.callbacks.History at 0x7fe551cbbad0>"
          },
          "metadata": {}
        }
      ]
    },
    {
      "cell_type": "code",
      "source": [
        "def predict(input_sentence):\n",
        "    out_text = ''\n",
        "    seq = tknizer_ita.texts_to_sequences([input_sentence]) \n",
        "    pad = pad_sequences(seq, maxlen = 20, dtype='int32', padding='post')\n",
        "    enc_out, state_h, state_c = model1.encoder(pad)\n",
        "    intial = np.zeros((1,1), dtype = 'float32')\n",
        "    intial[0, 0] = tknizer_eng.word_index['<start>']\n",
        "    states = [state_h, state_c]\n",
        "    \n",
        "    for i in range(20):\n",
        "        predicted_out, state_h, state_c = model1.decoder(intial, initial_states = states)\n",
        "        out = model1.dense(predicted_out).numpy()\n",
        "        out = out.reshape(out.shape[-1])\n",
        "        states = [state_h, state_c] # Update State\n",
        "        out = np.argmax(out)\n",
        "        intial = np.zeros((1, 1), dtype = 'float32')\n",
        "        if tknizer_eng.index_word[out] == '<end>' or i == 20:\n",
        "            break\n",
        "        intial[0, 0] = out #Update decoder input\n",
        "        out_text += tknizer_eng.index_word[out] + ' '\n",
        "    return out_text"
      ],
      "metadata": {
        "execution": {
          "iopub.status.busy": "2022-07-12T14:37:11.603976Z",
          "iopub.execute_input": "2022-07-12T14:37:11.604333Z",
          "iopub.status.idle": "2022-07-12T14:37:11.614187Z",
          "shell.execute_reply.started": "2022-07-12T14:37:11.604298Z",
          "shell.execute_reply": "2022-07-12T14:37:11.613083Z"
        },
        "trusted": true,
        "id": "tZIswL-UEj5d"
      },
      "execution_count": null,
      "outputs": []
    },
    {
      "cell_type": "code",
      "source": [
        "import nltk.translate.bleu_score as bleu\n",
        "bleu_score = []\n",
        "for n in (np.random.randint(0, len(validation), 5)):\n",
        "    query = validation.italian.values[n]\n",
        "    pred = predict(query)\n",
        "    ground = validation.english_inp.values[n]\n",
        "    ground_ = nltk.tokenize.casual.casual_tokenize(ground)\n",
        "    pred_ = nltk.tokenize.casual.casual_tokenize(pred)\n",
        "    bleu_score.append(nltk.translate.bleu_score.sentence_bleu([ground_], pred_)) \n",
        "    print(\"-\"*50)\n",
        "    print(\"italian Sentence: \", query)\n",
        "    print(\"Actual translation: \", ground)\n",
        "    print(\"Predicted Translation: \", pred)\n",
        "print(\"BLEU score :\", np.mean(bleu_score))"
      ],
      "metadata": {
        "execution": {
          "iopub.status.busy": "2022-07-12T14:37:11.615509Z",
          "iopub.execute_input": "2022-07-12T14:37:11.616335Z",
          "iopub.status.idle": "2022-07-12T14:37:11.819501Z",
          "shell.execute_reply.started": "2022-07-12T14:37:11.616299Z",
          "shell.execute_reply": "2022-07-12T14:37:11.818549Z"
        },
        "trusted": true,
        "id": "kemK5-y1Ej5d",
        "outputId": "23fa448a-563b-413c-acf5-cbdca93e12f5"
      },
      "execution_count": null,
      "outputs": [
        {
          "name": "stdout",
          "text": "--------------------------------------------------\nitalian Sentence:  <start> parigi è la capitale della francia <end>\nActual translation:  <start> paris is the capital of france\nPredicted Translation:  paris is the capital of france \n--------------------------------------------------\nitalian Sentence:  <start> tom mi assicurò che la pistola non era carica <end>\nActual translation:  <start> tom assured me the gun was not loaded\nPredicted Translation:  tom assured me the gun is not a gun \n--------------------------------------------------\nitalian Sentence:  <start> lui ha risolto il problema da solo <end>\nActual translation:  <start> he solved the problem by himself\nPredicted Translation:  he solved the problem by himself \n--------------------------------------------------\nitalian Sentence:  <start> ho imparato la mia lezione <end>\nActual translation:  <start> i learned my lesson\nPredicted Translation:  i have learned my lesson \n--------------------------------------------------\nitalian Sentence:  <start> negli autobus affollati i giovani dovrebbero cedere il loro posto agli anziani <end>\nActual translation:  <start> on crowded buses young people should give their seats to old people\nPredicted Translation:  the young hurry to the party should walk by the moon \nBLEU score : 0.6733787580806078\n",
          "output_type": "stream"
        }
      ]
    },
    {
      "cell_type": "markdown",
      "source": [
        "## Task -2: Including Attention mechanisum"
      ],
      "metadata": {
        "id": "V03Fn5VQEj5d"
      }
    },
    {
      "cell_type": "markdown",
      "source": [
        "1. Use the preprocessed data from Task-1\n",
        "\n",
        "2. You have to implement an Encoder and Decoder architecture with  \n",
        "attention as discussed in the reference notebook.\n",
        "\n",
        "    * Encoder   - with 1 layer LSTM <br>\n",
        "    * Decoder   - with 1 layer LSTM<br>\n",
        "    * attention -  (Please refer the <a href= 'https://drive.google.com/file/d/1z_bnc-3aubKawbR6q8wyI6Mh5ho2R1aZ/view?usp=sharing'>**reference notebook**</a> to know more about the attention mechanism.)\n",
        "3. In Global attention, we have 3 types of scoring functions(as discussed in the reference notebook).\n",
        " As a part of this assignment **you need to create 3 models for each scoring function**\n",
        "<img src='https://i.imgur.com/iD2jZo3.png'>\n",
        "\n",
        "    * In model 1 you need to implemnt \"dot\" score function\n",
        "    * In model 2 you need to implemnt \"general\" score function\n",
        "    * In model 3 you need to implemnt \"concat\" score function.<br>\n",
        "    \n",
        " **Please do add the markdown titles for each model so that we can have a better look at the code and verify.**\n",
        "4. It is mandatory to train the model with simple model.fit() only, Donot train the model with custom GradientTape()\n",
        "\n",
        "5. Using attention weights, you can plot the attention plots, \n",
        "please plot those for 2-3 examples. You can check about those in <a href=\"https://www.tensorflow.org/tutorials/text/nmt_with_attention#translate\">this</a>\n",
        "\n",
        "6. The attention layer has to be written by yourself only. \n",
        "The main objective of this assignment is to read and implement a paper on yourself so please do it yourself.  \n",
        "\n",
        "7. Please implement the class **onestepdecoder** as mentioned in the assignment instructions.\n",
        "\n",
        "8. You can use any tf.Keras highlevel API's to build and train the models. \n",
        " Check the reference notebook for better understanding.\n",
        "\n",
        "9. Use BLEU score as metric to evaluate your model. You can use any loss function you need.\n",
        "\n",
        "10. You have to use Tensorboard to plot the Graph, Scores and histograms of gradients. \n",
        "\n",
        "11. Resources:\n",
        "    a. Check the reference notebook\n",
        "    b. <a href=\"https://jalammar.github.io/visualizing-neural-machine-translation-mechanics-of-seq2seq-models-with-attention/\">Resource 1</a>\n",
        "    c. <a href=\"https://www.tensorflow.org/tutorials/text/nmt_with_attention\">Resource 2</a>\n",
        "    d. <a href=\"https://stackoverflow.com/questions/44238154/what-is-the-difference-between-luong-attention-and-bahdanau-attention#:~:text=Luong%20attention%20used%20top%20hidden,hidden%20state%20at%20time%20t.\">Resource 3</a>\n",
        "    "
      ],
      "metadata": {
        "id": "xjSELJluEj5d"
      }
    },
    {
      "cell_type": "markdown",
      "source": [
        "### <font color='blue'>**Implement custom encoder decoder and attention layers**</font>"
      ],
      "metadata": {
        "id": "EAzH3H3YEj5e"
      }
    },
    {
      "cell_type": "markdown",
      "source": [
        "<font color='blue'>**Encoder**</font>"
      ],
      "metadata": {
        "id": "Apfl6eF7Ej5e"
      }
    },
    {
      "cell_type": "code",
      "source": [
        "class Encoder(tf.keras.Model):\n",
        "    def __init__(self,inp_vocab_size,embedding_size,lstm_size,input_length):\n",
        "\n",
        "        #Initialize Embedding layer\n",
        "        #Intialize Encoder LSTM layer\n",
        "        super().__init__()\n",
        "        self.vocab_size = inp_vocab_size\n",
        "        self.embedding_size = embedding_size\n",
        "        self.input_length = input_length\n",
        "        self.lstm_size= lstm_size\n",
        "        self.embedding = Embedding(input_dim=self.vocab_size, output_dim=self.embedding_size, input_length=self.input_length,\n",
        "                           mask_zero=True, name=\"embedding_layer_encoder\")\n",
        "        self.lstm = LSTM(self.lstm_size, return_state=True, return_sequences=True, name=\"Encoder_LSTM\")\n",
        "\n",
        "    def call(self,input_sequence,states):\n",
        "        input_embedd = self.embedding(input_sequence)\n",
        "        self.lstm_output, self.lstm_state_h,self.lstm_state_c = self.lstm(input_embedd,initial_state=states)\n",
        "        return self.lstm_output, self.lstm_state_h,self.lstm_state_c\n",
        "\n",
        "    \n",
        "    def initialize_states(self,batch_size):\n",
        "        initial_state_h=tf.zeros([batch_size,self.lstm_size],dtype=tf.dtypes.float32)\n",
        "        initial_state_c=tf.zeros([batch_size,self.lstm_size],dtype=tf.dtypes.float32)\n",
        "        return [initial_state_h , initial_state_c]"
      ],
      "metadata": {
        "execution": {
          "iopub.status.busy": "2022-07-12T08:16:35.016024Z",
          "iopub.execute_input": "2022-07-12T08:16:35.016763Z",
          "iopub.status.idle": "2022-07-12T08:16:35.026859Z",
          "shell.execute_reply.started": "2022-07-12T08:16:35.016721Z",
          "shell.execute_reply": "2022-07-12T08:16:35.025990Z"
        },
        "trusted": true,
        "id": "KgsAmckhEj5e"
      },
      "execution_count": null,
      "outputs": []
    },
    {
      "cell_type": "markdown",
      "source": [
        "<font color='cyan'>**Grader function - 1**</font>"
      ],
      "metadata": {
        "id": "zUSgvGfwEj5e"
      }
    },
    {
      "cell_type": "code",
      "source": [
        "def grader_check_encoder():\n",
        "    \n",
        "    '''\n",
        "        vocab-size: Unique words of the input language,\n",
        "        embedding_size: output embedding dimension for each word after embedding layer,\n",
        "        lstm_size: Number of lstm units in encoder,\n",
        "        input_length: Length of the input sentence,\n",
        "        batch_size\n",
        "    '''\n",
        "    \n",
        "    vocab_size=10\n",
        "    embedding_size=20\n",
        "    lstm_size=32\n",
        "    input_length=10\n",
        "    batch_size=16\n",
        "    encoder=Encoder(vocab_size,embedding_size,lstm_size,input_length)\n",
        "    input_sequence=tf.random.uniform(shape=[batch_size,input_length],maxval=vocab_size,minval=0,dtype=tf.int32)\n",
        "    initial_state=encoder.initialize_states(batch_size)\n",
        "    encoder_output,state_h,state_c=encoder(input_sequence,initial_state)\n",
        "    \n",
        "    assert(encoder_output.shape==(batch_size,input_length,lstm_size) and state_h.shape==(batch_size,lstm_size) and state_c.shape==(batch_size,lstm_size))\n",
        "    return True\n",
        "print(grader_check_encoder())"
      ],
      "metadata": {
        "execution": {
          "iopub.status.busy": "2022-07-12T14:54:12.637738Z",
          "iopub.execute_input": "2022-07-12T14:54:12.638617Z",
          "iopub.status.idle": "2022-07-12T14:54:12.665920Z",
          "shell.execute_reply.started": "2022-07-12T14:54:12.638584Z",
          "shell.execute_reply": "2022-07-12T14:54:12.664930Z"
        },
        "trusted": true,
        "id": "GFLuzwWtEj5e",
        "outputId": "4d8a601b-84eb-4a58-9f02-5d3fbf59f6d4"
      },
      "execution_count": null,
      "outputs": [
        {
          "name": "stdout",
          "text": "True\n",
          "output_type": "stream"
        }
      ]
    },
    {
      "cell_type": "markdown",
      "source": [
        "<font color='blue'>**Attention**</font>"
      ],
      "metadata": {
        "id": "1-pvqKyhEj5e"
      }
    },
    {
      "cell_type": "code",
      "source": [
        "class Attention(tf.keras.layers.Layer):\n",
        "    def __init__(self, scoring_function, att_units):\n",
        "        super().__init__()\n",
        "        self.scoring_function = scoring_function\n",
        "        self.att_units = att_units\n",
        "\n",
        "        if self.scoring_function == 'concat':\n",
        "            self.W11 = tf.keras.layers.Dense(self.att_units)\n",
        "            self.W21 = tf.keras.layers.Dense(self.att_units)\n",
        "            self.v = tf.keras.layers.Dense(1)\n",
        "            \n",
        "        elif self.scoring_function == 'general':\n",
        "            self.W1 = tf.keras.layers.Dense(self.att_units)\n",
        "\n",
        "  \n",
        "    def call(self,decoder_hidden_state,encoder_output):\n",
        "        if self.scoring_function == 'dot':\n",
        "            decoder_hidden_state = tf.expand_dims(decoder_hidden_state,2)\n",
        "            similarity = tf.matmul(encoder_output, decoder_hidden_state)\n",
        "\n",
        "        elif self.scoring_function == 'general':\n",
        "            decoder_hidden_state = tf.expand_dims(decoder_hidden_state,2)\n",
        "            weights = self.W1(encoder_output)\n",
        "            similarity = tf.matmul(weights, decoder_hidden_state)\n",
        "\n",
        "        elif self.scoring_function == 'concat':\n",
        "            decoder_hidden_state = tf.expand_dims(decoder_hidden_state,1)\n",
        "            similarity = self.v(tf.nn.tanh(self.W11(decoder_hidden_state) + self.W21(encoder_output)))\n",
        "            \n",
        "        attention_weights = tf.nn.softmax(similarity,axis=1)\n",
        "        context_vector = attention_weights * encoder_output\n",
        "        context_vector = tf.reduce_sum(context_vector,axis=1)\n",
        "\n",
        "        return context_vector,attention_weights"
      ],
      "metadata": {
        "execution": {
          "iopub.status.busy": "2022-07-12T14:55:08.061622Z",
          "iopub.execute_input": "2022-07-12T14:55:08.062624Z",
          "iopub.status.idle": "2022-07-12T14:55:08.075487Z",
          "shell.execute_reply.started": "2022-07-12T14:55:08.062589Z",
          "shell.execute_reply": "2022-07-12T14:55:08.074186Z"
        },
        "trusted": true,
        "id": "w1Gccqc0Ej5f"
      },
      "execution_count": null,
      "outputs": []
    },
    {
      "cell_type": "markdown",
      "source": [
        "<font color='cyan'>**Grader function - 2**</font>"
      ],
      "metadata": {
        "id": "NntW1fN8Ej5f"
      }
    },
    {
      "cell_type": "code",
      "source": [
        "def grader_check_attention(scoring_fun):\n",
        "    \n",
        "    ''' \n",
        "        att_units: Used in matrix multiplications for scoring functions,\n",
        "        input_length: Length of the input sentence,\n",
        "        batch_size\n",
        "    '''\n",
        "    \n",
        "    input_length=10\n",
        "    batch_size=16\n",
        "    att_units=32\n",
        "    \n",
        "    state_h=tf.random.uniform(shape=[batch_size,att_units])\n",
        "    encoder_output=tf.random.uniform(shape=[batch_size,input_length,att_units])\n",
        "    attention=Attention(scoring_fun,att_units)\n",
        "    context_vector,attention_weights=attention(state_h,encoder_output)\n",
        "    assert(context_vector.shape==(batch_size,att_units) and attention_weights.shape==(batch_size,input_length,1))\n",
        "    return True\n",
        "print(grader_check_attention('dot'))\n",
        "print(grader_check_attention('general'))\n",
        "print(grader_check_attention('concat'))"
      ],
      "metadata": {
        "execution": {
          "iopub.status.busy": "2022-07-12T14:55:10.814194Z",
          "iopub.execute_input": "2022-07-12T14:55:10.815287Z",
          "iopub.status.idle": "2022-07-12T14:55:10.855778Z",
          "shell.execute_reply.started": "2022-07-12T14:55:10.815234Z",
          "shell.execute_reply": "2022-07-12T14:55:10.854595Z"
        },
        "trusted": true,
        "id": "7axAsG_dEj5f",
        "outputId": "8e260f95-8771-47f2-89c3-310da87afe91"
      },
      "execution_count": null,
      "outputs": [
        {
          "name": "stdout",
          "text": "True\nTrue\nTrue\n",
          "output_type": "stream"
        }
      ]
    },
    {
      "cell_type": "code",
      "source": [
        "class One_Step_Decoder(tf.keras.Model):\n",
        "    def __init__(self,tar_vocab_size, embedding_dim, input_length, dec_units ,score_fun ,att_units):\n",
        "        super().__init__()\n",
        "        self.vocab_size = tar_vocab_size\n",
        "        self.embedding_size = embedding_dim\n",
        "        self.input_length = input_length\n",
        "        self.lstm_size= dec_units\n",
        "        self.score_fun = score_fun\n",
        "        self.att_units = att_units\n",
        "        self.embedding = Embedding(input_dim=self.vocab_size, output_dim=self.embedding_size, input_length=self.input_length,\n",
        "                           mask_zero=True, name=\"embedding_layer_encoder\")\n",
        "        self.lstm = LSTM(self.lstm_size, return_state=True, return_sequences=True, name=\"Encoder_LSTM\")\n",
        "        self.dense = Dense(self.vocab_size)\n",
        "        self.attention=Attention(self.score_fun,self.att_units)\n",
        "\n",
        "    def call(self,input_to_decoder, encoder_output, state_h,state_c):\n",
        "        input_embedd = self.embedding(input_to_decoder)\n",
        "        \n",
        "        context_vector,attention_weights=self.attention(state_h,encoder_output)\n",
        "       \n",
        "        concat_embed = tf.concat([input_embedd,context_vector[:,tf.newaxis,:]],2)\n",
        "        \n",
        "        lstm_output, lstm_state_h,lstm_state_c = self.lstm(concat_embed,initial_state=[state_h,state_c])\n",
        "        decoder_output = self.dense(tf.squeeze(lstm_output,axis=[1]))\n",
        "        \n",
        "        return decoder_output,lstm_state_h,lstm_state_c,attention_weights,context_vector"
      ],
      "metadata": {
        "execution": {
          "iopub.status.busy": "2022-07-12T14:55:49.801985Z",
          "iopub.execute_input": "2022-07-12T14:55:49.803039Z",
          "iopub.status.idle": "2022-07-12T14:55:49.813113Z",
          "shell.execute_reply.started": "2022-07-12T14:55:49.802995Z",
          "shell.execute_reply": "2022-07-12T14:55:49.812163Z"
        },
        "trusted": true,
        "id": "BGQJd9VQEj5f"
      },
      "execution_count": null,
      "outputs": []
    },
    {
      "cell_type": "markdown",
      "source": [
        "<font color='cyan'>**Grader function - 3**</font>"
      ],
      "metadata": {
        "id": "ncVIhGj6Ej5g"
      }
    },
    {
      "cell_type": "code",
      "source": [
        "def grader_onestepdecoder(score_fun):\n",
        "    \n",
        "    '''\n",
        "        tar_vocab_size: Unique words of the target language,\n",
        "        embedding_dim: output embedding dimension for each word after embedding layer,\n",
        "        dec_units: Number of lstm units in decoder,\n",
        "        att_units: Used in matrix multiplications for scoring functions in attention class,\n",
        "        input_length: Length of the target sentence,\n",
        "        batch_size\n",
        "        \n",
        "    \n",
        "    '''\n",
        "    \n",
        "    tar_vocab_size=13 \n",
        "    embedding_dim=12 \n",
        "    input_length=10\n",
        "    dec_units=16 \n",
        "    att_units=16\n",
        "    batch_size=32\n",
        "    onestepdecoder=One_Step_Decoder(tar_vocab_size, embedding_dim, input_length, dec_units ,score_fun ,att_units)\n",
        "    input_to_decoder=tf.random.uniform(shape=(batch_size,1),maxval=10,minval=0,dtype=tf.int32)\n",
        "    encoder_output=tf.random.uniform(shape=[batch_size,input_length,dec_units])\n",
        "    state_h=tf.random.uniform(shape=[batch_size,dec_units])\n",
        "    state_c=tf.random.uniform(shape=[batch_size,dec_units])\n",
        "    output,state_h,state_c,attention_weights,context_vector=onestepdecoder(input_to_decoder,encoder_output,state_h,state_c)\n",
        "    assert(output.shape==(batch_size,tar_vocab_size))\n",
        "    assert(state_h.shape==(batch_size,dec_units))\n",
        "    assert(state_c.shape==(batch_size,dec_units))\n",
        "    assert(attention_weights.shape==(batch_size,input_length,1))\n",
        "    assert(context_vector.shape==(batch_size,dec_units))\n",
        "    return True\n",
        "    \n",
        "print(grader_onestepdecoder('dot'))\n",
        "print(grader_onestepdecoder('general'))\n",
        "print(grader_onestepdecoder('concat'))\n",
        "    "
      ],
      "metadata": {
        "execution": {
          "iopub.status.busy": "2022-07-12T14:55:51.270585Z",
          "iopub.execute_input": "2022-07-12T14:55:51.270946Z",
          "iopub.status.idle": "2022-07-12T14:55:51.356779Z",
          "shell.execute_reply.started": "2022-07-12T14:55:51.270915Z",
          "shell.execute_reply": "2022-07-12T14:55:51.355906Z"
        },
        "trusted": true,
        "id": "2YKtqNgXEj5g",
        "outputId": "eb295ed1-6d54-45d1-ba26-63acf7840220"
      },
      "execution_count": null,
      "outputs": [
        {
          "name": "stdout",
          "text": "True\nTrue\nTrue\n",
          "output_type": "stream"
        }
      ]
    },
    {
      "cell_type": "code",
      "source": [
        "class Decoder(tf.keras.Model):\n",
        "    def __init__(self,out_vocab_size, embedding_dim, input_length, dec_units ,score_fun ,att_units):\n",
        "        super().__init__()\n",
        "        self.vocab_size = out_vocab_size\n",
        "        self.embedding_dim = embedding_dim\n",
        "        self.dec_units = dec_units\n",
        "        self.att_units = att_units\n",
        "        self.input_length = input_length\n",
        "        self.score_fun = score_fun\n",
        "        self.onestepdecoder = One_Step_Decoder(self.vocab_size, self.embedding_dim , self.input_length,\n",
        "                                               self.dec_units ,self.score_fun ,self.att_units )\n",
        "\n",
        "\n",
        "    def call(self, input_to_decoder,encoder_output,decoder_hidden_state,decoder_cell_state ):\n",
        "        all_outputs = tf.TensorArray(tf.float32,size=self.input_length,name=\"output_array\")\n",
        "        for timestep in range(self.input_length):\n",
        "            output,decoder_hidden_state,decoder_cell_state,attention_weights,context_vector=self.onestepdecoder(input_to_decoder[:,timestep:timestep+1],\n",
        "                                                                                                           encoder_output,decoder_hidden_state,decoder_cell_state)\n",
        "            all_outputs = all_outputs.write(timestep,output) \n",
        "        all_outputs = tf.transpose(all_outputs.stack(),[1,0,2])\n",
        "        return all_outputs"
      ],
      "metadata": {
        "execution": {
          "iopub.status.busy": "2022-07-12T14:55:56.143287Z",
          "iopub.execute_input": "2022-07-12T14:55:56.144123Z",
          "iopub.status.idle": "2022-07-12T14:55:56.154075Z",
          "shell.execute_reply.started": "2022-07-12T14:55:56.144087Z",
          "shell.execute_reply": "2022-07-12T14:55:56.153001Z"
        },
        "trusted": true,
        "id": "q5jKDeVAEj5g"
      },
      "execution_count": null,
      "outputs": []
    },
    {
      "cell_type": "markdown",
      "source": [
        "<font color='cyan'>**Grader function - 4**</font>"
      ],
      "metadata": {
        "id": "TecMjG3UEj5g"
      }
    },
    {
      "cell_type": "code",
      "source": [
        "def grader_decoder(score_fun):\n",
        "    \n",
        "    '''\n",
        "        out_vocab_size: Unique words of the target language,\n",
        "        embedding_dim: output embedding dimension for each word after embedding layer,\n",
        "        dec_units: Number of lstm units in decoder,\n",
        "        att_units: Used in matrix multiplications for scoring functions in attention class,\n",
        "        input_length: Length of the target sentence,\n",
        "        batch_size\n",
        "        \n",
        "    \n",
        "    '''\n",
        "    \n",
        "    out_vocab_size=13 \n",
        "    embedding_dim=12 \n",
        "    input_length=11\n",
        "    dec_units=16 \n",
        "    att_units=16\n",
        "    batch_size=32\n",
        "    \n",
        "    target_sentences=tf.random.uniform(shape=(batch_size,input_length),maxval=10,minval=0,dtype=tf.int32)\n",
        "    encoder_output=tf.random.uniform(shape=[batch_size,input_length,dec_units])\n",
        "    state_h=tf.random.uniform(shape=[batch_size,dec_units])\n",
        "    state_c=tf.random.uniform(shape=[batch_size,dec_units])\n",
        "    \n",
        "    decoder=Decoder(out_vocab_size, embedding_dim, input_length, dec_units ,score_fun ,att_units)\n",
        "    output=decoder(target_sentences,encoder_output, state_h, state_c)\n",
        "    assert(output.shape==(batch_size,input_length,out_vocab_size))\n",
        "    return True\n",
        "print(grader_decoder('dot'))\n",
        "print(grader_decoder('general'))\n",
        "print(grader_decoder('concat'))"
      ],
      "metadata": {
        "execution": {
          "iopub.status.busy": "2022-07-12T14:56:08.761763Z",
          "iopub.execute_input": "2022-07-12T14:56:08.762128Z",
          "iopub.status.idle": "2022-07-12T14:56:09.011172Z",
          "shell.execute_reply.started": "2022-07-12T14:56:08.762098Z",
          "shell.execute_reply": "2022-07-12T14:56:09.010281Z"
        },
        "trusted": true,
        "id": "WtV6TQ3wEj5g",
        "outputId": "f6fe3112-5654-40a9-de06-41c849b51b9a"
      },
      "execution_count": null,
      "outputs": [
        {
          "name": "stdout",
          "text": "True\nTrue\nTrue\n",
          "output_type": "stream"
        }
      ]
    },
    {
      "cell_type": "code",
      "source": [
        "class encoder_decoder(tf.keras.Model):\n",
        "    def __init__(self,encoder_inputs_length,decoder_inputs_length, output_vocab_size,score_fun,batch_size=128):\n",
        "        super().__init__()\n",
        "        self.batch_size=batch_size\n",
        "        self.encoder = Encoder(inp_vocab_size=vocab_size_ita+1, embedding_size=50, input_length=encoder_inputs_length,\n",
        "                               lstm_size=256)\n",
        "        self.decoder = Decoder(out_vocab_size=vocab_size_eng+1, embedding_dim=100, input_length=decoder_inputs_length,\n",
        "                               dec_units=256 ,score_fun = score_fun ,att_units=256)\n",
        "\n",
        "    def call(self,data):\n",
        "        encoder_output,state_h,state_c=self.encoder(data[0],self.encoder.initialize_states(batch_size))\n",
        "        outputs = self.decoder(data[1],encoder_output,state_h,state_c)\n",
        "        \n",
        "        return outputs"
      ],
      "metadata": {
        "execution": {
          "iopub.status.busy": "2022-07-12T08:16:35.072440Z",
          "iopub.execute_input": "2022-07-12T08:16:35.073287Z",
          "iopub.status.idle": "2022-07-12T08:16:35.082727Z",
          "shell.execute_reply.started": "2022-07-12T08:16:35.073245Z",
          "shell.execute_reply": "2022-07-12T08:16:35.081722Z"
        },
        "trusted": true,
        "id": "QttwHYDXEj5g"
      },
      "execution_count": null,
      "outputs": []
    },
    {
      "cell_type": "code",
      "source": [
        "https://www.tensorflow.org/tutorials/text/image_captioning#model\n",
        "loss_object = tf.keras.losses.SparseCategoricalCrossentropy(\n",
        "    from_logits=True, reduction='none')\n",
        "\n",
        "\n",
        "def loss_function(real, pred):\n",
        "    \"\"\" Custom loss function that will not consider the loss for padded zeros.\n",
        "    why are we using this, can't we use simple sparse categorical crossentropy?\n",
        "    Yes, you can use simple sparse categorical crossentropy as loss like we did in task-1. But in this loss function we are ignoring the loss\n",
        "    for the padded zeros. i.e when the input is zero then we donot need to worry what the output is. This padded zeros are added from our end\n",
        "    during preprocessing to make equal length for all the sentences.\n",
        "\n",
        "    \"\"\"\n",
        "    \n",
        "    \n",
        "    mask = tf.math.logical_not(tf.math.equal(real, 0))\n",
        "    loss_ = loss_object(real, pred)\n",
        "\n",
        "    mask = tf.cast(mask, dtype=loss_.dtype)\n",
        "    loss_ *= mask\n",
        "\n",
        "    return tf.reduce_mean(loss_)"
      ],
      "metadata": {
        "execution": {
          "iopub.status.busy": "2022-07-12T08:16:35.088179Z",
          "iopub.execute_input": "2022-07-12T08:16:35.088820Z",
          "iopub.status.idle": "2022-07-12T08:16:35.095427Z",
          "shell.execute_reply.started": "2022-07-12T08:16:35.088793Z",
          "shell.execute_reply": "2022-07-12T08:16:35.094274Z"
        },
        "trusted": true,
        "id": "7LoxHE1wEj5h"
      },
      "execution_count": null,
      "outputs": []
    },
    {
      "cell_type": "code",
      "source": [
        "class Dataset:\n",
        "    def __init__(self, data, tknizer_ita, tknizer_eng, max_len):\n",
        "        self.encoder_inps = data['italian'].values\n",
        "        self.decoder_inps = data['english_inp'].values\n",
        "        self.decoder_outs = data['english_out'].values\n",
        "        self.tknizer_eng = tknizer_eng\n",
        "        self.tknizer_ita = tknizer_ita\n",
        "        self.max_len = max_len\n",
        "\n",
        "    def __getitem__(self, i):\n",
        "        self.encoder_seq = self.tknizer_ita.texts_to_sequences([self.encoder_inps[i]]) # need to pass list of values\n",
        "        self.decoder_inp_seq = self.tknizer_eng.texts_to_sequences([self.decoder_inps[i]])\n",
        "        self.decoder_out_seq = self.tknizer_eng.texts_to_sequences([self.decoder_outs[i]])\n",
        "\n",
        "        self.encoder_seq = pad_sequences(self.encoder_seq, maxlen=self.max_len, dtype='int32', padding='post')\n",
        "        self.decoder_inp_seq = pad_sequences(self.decoder_inp_seq, maxlen=self.max_len+1, dtype='int32', padding='post')\n",
        "        self.decoder_out_seq = pad_sequences(self.decoder_out_seq, maxlen=self.max_len+1, dtype='int32', padding='post')\n",
        "        return self.encoder_seq, self.decoder_inp_seq, self.decoder_out_seq\n",
        "\n",
        "    def __len__(self): # your model.fit_gen requires this function\n",
        "        return len(self.encoder_inps)\n",
        "\n",
        "    \n",
        "class Dataloder(tf.keras.utils.Sequence):    \n",
        "    def __init__(self, dataset, batch_size=1):\n",
        "        self.dataset = dataset\n",
        "        self.batch_size = batch_size\n",
        "        self.indexes = np.arange(len(self.dataset.encoder_inps))\n",
        "\n",
        "\n",
        "    def __getitem__(self, i):\n",
        "        start = i * self.batch_size\n",
        "        stop = (i + 1) * self.batch_size\n",
        "        data = []\n",
        "        for j in range(start, stop):\n",
        "            data.append(self.dataset[j])\n",
        "\n",
        "        batch = [np.squeeze(np.stack(samples, axis=1), axis=0) for samples in zip(*data)]\n",
        "        return tuple([[batch[0],batch[1]],batch[2]])\n",
        "\n",
        "    def __len__(self):\n",
        "        return len(self.indexes) // self.batch_size\n",
        "\n",
        "    def on_epoch_end(self):\n",
        "        self.indexes = np.random.permutation(self.indexes)"
      ],
      "metadata": {
        "execution": {
          "iopub.status.busy": "2022-07-12T08:16:35.096911Z",
          "iopub.execute_input": "2022-07-12T08:16:35.097496Z",
          "iopub.status.idle": "2022-07-12T08:16:35.112701Z",
          "shell.execute_reply.started": "2022-07-12T08:16:35.097454Z",
          "shell.execute_reply": "2022-07-12T08:16:35.111610Z"
        },
        "trusted": true,
        "id": "LfHQ_-IuEj5h"
      },
      "execution_count": null,
      "outputs": []
    },
    {
      "cell_type": "code",
      "source": [
        "## splitting data using the above function\n",
        "batch_size = 128\n",
        "train_dataset = Dataset(train, tknizer_ita, tknizer_eng, 25)\n",
        "test_dataset  = Dataset(validation, tknizer_ita, tknizer_eng, 25)\n",
        "\n",
        "train_dataloader = Dataloder(train_dataset, batch_size=batch_size)\n",
        "test_dataloader = Dataloder(test_dataset, batch_size=batch_size)\n",
        "\n",
        "\n",
        "print(train_dataloader[1][0][0].shape, train_dataloader[1][0][1].shape, train_dataloader[1][1].shape)"
      ],
      "metadata": {
        "execution": {
          "iopub.status.busy": "2022-07-12T08:16:35.114330Z",
          "iopub.execute_input": "2022-07-12T08:16:35.114701Z",
          "iopub.status.idle": "2022-07-12T08:16:35.164454Z",
          "shell.execute_reply.started": "2022-07-12T08:16:35.114666Z",
          "shell.execute_reply": "2022-07-12T08:16:35.163556Z"
        },
        "trusted": true,
        "id": "3cuNVCxkEj5h",
        "outputId": "5aae74b2-0287-4ec2-8415-41804f2df76b"
      },
      "execution_count": null,
      "outputs": [
        {
          "name": "stdout",
          "text": "(128, 25) (128, 26) (128, 26)\n",
          "output_type": "stream"
        }
      ]
    },
    {
      "cell_type": "code",
      "source": [
        "## here we define callbacks and model before compiling it\n",
        "log_dir = \"logs/fit/\"\n",
        "tensorboard_callback = tf.keras.callbacks.TensorBoard(log_dir=log_dir, histogram_freq=1)\n",
        "earl_stp = tf.keras.callbacks.EarlyStopping(monitor='val_loss', mode='min', patience=5,  restore_best_weights=True)\n",
        "cb = [tensorboard_callback,earl_stp]\n",
        "\n",
        "model2 = encoder_decoder(25,26,vocab_size_eng,'dot')\n",
        "optimizer = tf.keras.optimizers.Adam()\n",
        "model2.compile(optimizer=optimizer,loss=loss_function)"
      ],
      "metadata": {
        "execution": {
          "iopub.status.busy": "2022-07-12T08:16:35.165843Z",
          "iopub.execute_input": "2022-07-12T08:16:35.166152Z",
          "iopub.status.idle": "2022-07-12T08:16:35.435653Z",
          "shell.execute_reply.started": "2022-07-12T08:16:35.166120Z",
          "shell.execute_reply": "2022-07-12T08:16:35.434634Z"
        },
        "trusted": true,
        "id": "a9qfvhUPEj5h",
        "outputId": "f7abe692-357f-4d6c-cdb0-7af4367c052f"
      },
      "execution_count": null,
      "outputs": [
        {
          "name": "stderr",
          "text": "2022-07-12 08:16:35.168346: I tensorflow/core/profiler/lib/profiler_session.cc:131] Profiler session initializing.\n2022-07-12 08:16:35.168400: I tensorflow/core/profiler/lib/profiler_session.cc:146] Profiler session started.\n2022-07-12 08:16:35.303689: I tensorflow/core/profiler/lib/profiler_session.cc:164] Profiler session tear down.\n2022-07-12 08:16:35.303860: I tensorflow/core/profiler/internal/gpu/cupti_tracer.cc:1748] CUPTI activity buffer flushed\n",
          "output_type": "stream"
        }
      ]
    },
    {
      "cell_type": "code",
      "source": [
        "\n",
        "train_steps=train.shape[0]//batch_size\n",
        "valid_steps=validation.shape[0]//batch_size\n",
        "model2.fit(train_dataloader,\n",
        "                     steps_per_epoch=train_steps,\n",
        "                     epochs=10,\n",
        "                     validation_data=test_dataloader,\n",
        "                     validation_steps=valid_steps,\n",
        "                     callbacks=cb,\n",
        "                     verbose=1)"
      ],
      "metadata": {
        "execution": {
          "iopub.status.busy": "2022-07-12T08:18:47.920355Z",
          "iopub.execute_input": "2022-07-12T08:18:47.920722Z",
          "iopub.status.idle": "2022-07-12T08:54:54.589542Z",
          "shell.execute_reply.started": "2022-07-12T08:18:47.920689Z",
          "shell.execute_reply": "2022-07-12T08:54:54.588507Z"
        },
        "trusted": true,
        "id": "Wxh3owp7Ej5h",
        "outputId": "cd914a3c-2222-4002-873c-564d66436f9f"
      },
      "execution_count": null,
      "outputs": [
        {
          "name": "stdout",
          "text": "Epoch 1/10\n   1/2193 [..............................] - ETA: 38:59:23 - loss: 2.5122",
          "output_type": "stream"
        },
        {
          "name": "stderr",
          "text": "2022-07-12 08:19:53.384759: I tensorflow/core/profiler/lib/profiler_session.cc:131] Profiler session initializing.\n2022-07-12 08:19:53.384814: I tensorflow/core/profiler/lib/profiler_session.cc:146] Profiler session started.\n",
          "output_type": "stream"
        },
        {
          "name": "stdout",
          "text": "   2/2193 [..............................] - ETA: 55:21 - loss: 2.4721   ",
          "output_type": "stream"
        },
        {
          "name": "stderr",
          "text": "2022-07-12 08:19:54.613925: I tensorflow/core/profiler/lib/profiler_session.cc:66] Profiler session collecting data.\n2022-07-12 08:19:54.618931: I tensorflow/core/profiler/internal/gpu/cupti_tracer.cc:1748] CUPTI activity buffer flushed\n2022-07-12 08:19:54.820913: I tensorflow/core/profiler/internal/gpu/cupti_collector.cc:673]  GpuTracer has collected 2682 callback api events and 2680 activity events. \n2022-07-12 08:19:54.903747: I tensorflow/core/profiler/lib/profiler_session.cc:164] Profiler session tear down.\n2022-07-12 08:19:54.979518: I tensorflow/core/profiler/rpc/client/save_profile.cc:136] Creating directory: logs/fit/train/plugins/profile/2022_07_12_08_19_54\n\n2022-07-12 08:19:55.031348: I tensorflow/core/profiler/rpc/client/save_profile.cc:142] Dumped gzipped tool data for trace.json.gz to logs/fit/train/plugins/profile/2022_07_12_08_19_54/0512b6484110.trace.json.gz\n2022-07-12 08:19:55.118820: I tensorflow/core/profiler/rpc/client/save_profile.cc:136] Creating directory: logs/fit/train/plugins/profile/2022_07_12_08_19_54\n\n2022-07-12 08:19:55.128202: I tensorflow/core/profiler/rpc/client/save_profile.cc:142] Dumped gzipped tool data for memory_profile.json.gz to logs/fit/train/plugins/profile/2022_07_12_08_19_54/0512b6484110.memory_profile.json.gz\n2022-07-12 08:19:55.131762: I tensorflow/core/profiler/rpc/client/capture_profile.cc:251] Creating directory: logs/fit/train/plugins/profile/2022_07_12_08_19_54\nDumped tool data for xplane.pb to logs/fit/train/plugins/profile/2022_07_12_08_19_54/0512b6484110.xplane.pb\nDumped tool data for overview_page.pb to logs/fit/train/plugins/profile/2022_07_12_08_19_54/0512b6484110.overview_page.pb\nDumped tool data for input_pipeline.pb to logs/fit/train/plugins/profile/2022_07_12_08_19_54/0512b6484110.input_pipeline.pb\nDumped tool data for tensorflow_stats.pb to logs/fit/train/plugins/profile/2022_07_12_08_19_54/0512b6484110.tensorflow_stats.pb\nDumped tool data for kernel_stats.pb to logs/fit/train/plugins/profile/2022_07_12_08_19_54/0512b6484110.kernel_stats.pb\n\n",
          "output_type": "stream"
        },
        {
          "name": "stdout",
          "text": "2193/2193 [==============================] - 278s 98ms/step - loss: 1.0401 - val_loss: 0.7148\nEpoch 2/10\n2193/2193 [==============================] - 204s 93ms/step - loss: 0.5751 - val_loss: 0.4690\nEpoch 3/10\n2193/2193 [==============================] - 203s 93ms/step - loss: 0.3767 - val_loss: 0.3337\nEpoch 4/10\n2193/2193 [==============================] - 201s 92ms/step - loss: 0.2639 - val_loss: 0.2642\nEpoch 5/10\n2193/2193 [==============================] - 203s 92ms/step - loss: 0.1994 - val_loss: 0.2286\nEpoch 6/10\n2193/2193 [==============================] - 202s 92ms/step - loss: 0.1599 - val_loss: 0.2020\nEpoch 7/10\n2193/2193 [==============================] - 202s 92ms/step - loss: 0.1328 - val_loss: 0.1879\nEpoch 8/10\n2193/2193 [==============================] - 201s 92ms/step - loss: 0.1139 - val_loss: 0.1790\nEpoch 9/10\n2193/2193 [==============================] - 201s 92ms/step - loss: 0.0989 - val_loss: 0.1703\nEpoch 10/10\n2193/2193 [==============================] - 202s 92ms/step - loss: 0.0876 - val_loss: 0.1651\n",
          "output_type": "stream"
        },
        {
          "execution_count": 46,
          "output_type": "execute_result",
          "data": {
            "text/plain": "<keras.callbacks.History at 0x7f01abd77fd0>"
          },
          "metadata": {}
        }
      ]
    },
    {
      "cell_type": "code",
      "source": [
        "def predict(model, input_sentence):\n",
        "    inputs = input_sentence.split('')\n",
        "    encoder_seq = tknizer_ita.texts_to_sequences([input_sentence])\n",
        "    encoder_seq = pad_sequences(encoder_seq, maxlen=25, dtype='int32', padding='post')\n",
        "    encoder_output,state_h,state_c = model.encoder(encoder_seq,model.encoder.initialize_states(1))\n",
        "    input_to_decoder = np.array(tknizer_eng.texts_to_sequences(['<start>']))\n",
        "    outputs = []\n",
        "    attention_wts = []\n",
        "    count = 0,\n",
        "    while True:\n",
        "        output,state_h,state_c,attention_weights,context_vector=model.decoder.onestepdecoder(input_to_decoder,\n",
        "                                                                                    encoder_output,state_h,state_c)\n",
        "        eng_id = tf.math.argmax(output[0]).numpy()\n",
        "        eng_word = tknizer_eng.sequences_to_texts([[eng_id]])\n",
        "        input_to_decoder = np.array(tknizer_eng.texts_to_sequences(eng_word))\n",
        "        count += 1\n",
        "        if count == 26 or eng_word[0] == '<end>':\n",
        "            break\n",
        "        outputs.append(eng_word[0])\n",
        "        attention_wts.append(tf.squeeze(attention_weights).numpy()[:len(inputs)])\n",
        "    attention_wts = np.array(attention_wts)\n",
        "    return(outputs,np.array(attention_wts))"
      ],
      "metadata": {
        "execution": {
          "iopub.status.busy": "2022-07-12T08:54:54.591872Z",
          "iopub.execute_input": "2022-07-12T08:54:54.592243Z",
          "iopub.status.idle": "2022-07-12T08:54:54.602977Z",
          "shell.execute_reply.started": "2022-07-12T08:54:54.592208Z",
          "shell.execute_reply": "2022-07-12T08:54:54.601966Z"
        },
        "trusted": true,
        "id": "qC44uPADEj5i"
      },
      "execution_count": null,
      "outputs": []
    },
    {
      "cell_type": "code",
      "source": [
        "## predictions on model 2\n",
        "for i,row in train.sample(4).iterrows():\n",
        "    print('='*80)\n",
        "    print(\"Italian Sentence: \" ,row['italian'].replace('<start> ','').replace(' <end>',''))\n",
        "    print(\"Acutual Translation: \" ,row['english_inp'].replace('<start> ',''))\n",
        "    print(\"Attention Weights: \")\n",
        "    outputs,attention_wts = predict(model2,row['italian'])\n",
        "    print(\"Predicted Translation: \",\" \".join(outputs))"
      ],
      "metadata": {
        "execution": {
          "iopub.status.busy": "2022-07-12T08:54:54.604399Z",
          "iopub.execute_input": "2022-07-12T08:54:54.605401Z",
          "iopub.status.idle": "2022-07-12T08:54:54.774086Z",
          "shell.execute_reply.started": "2022-07-12T08:54:54.605365Z",
          "shell.execute_reply": "2022-07-12T08:54:54.773062Z"
        },
        "trusted": true,
        "id": "QNwXMBkUEj5i",
        "outputId": "a85bc346-e50d-4867-fd92-7aad5bb36860"
      },
      "execution_count": null,
      "outputs": [
        {
          "name": "stdout",
          "text": "================================================================================\nItalian Sentence:  odio i suoi genitori\nAcutual Translation:  i hate her parents\nAttention Weights: \nPredicted Translation:  i hate your parents\n================================================================================\nItalian Sentence:  sembra che lei sappia molto\nAcutual Translation:  you seem to know a lot\nAttention Weights: \nPredicted Translation:  it sounds like you know a lot\n================================================================================\nItalian Sentence:  sei patetico\nAcutual Translation:  you are pathetic\nAttention Weights: \nPredicted Translation:  you are pathetic\n================================================================================\nItalian Sentence:  dovresti saperlo\nAcutual Translation:  you should know that\nAttention Weights: \nPredicted Translation:  you should know that\n",
          "output_type": "stream"
        }
      ]
    },
    {
      "cell_type": "code",
      "source": [
        "## bleu score on model 2\n",
        "bleu_scores0 = []\n",
        "for index, row in validation.sample(1000).iterrows():\n",
        "    translation,at_wts = predict(model2,row['italian'])\n",
        "    ref = [row['english_inp'].replace('<start> ','').split()]\n",
        "    bleu_scores0.append(bleu.sentence_bleu(ref, translation))\n",
        "blscr = np.mean(bleu_scores)\n",
        "print(\"BLEU score:\", blscr)"
      ],
      "metadata": {
        "execution": {
          "iopub.status.busy": "2022-07-12T11:25:22.842799Z",
          "iopub.execute_input": "2022-07-12T11:25:22.843156Z",
          "iopub.status.idle": "2022-07-12T11:25:22.849385Z",
          "shell.execute_reply.started": "2022-07-12T11:25:22.843126Z",
          "shell.execute_reply": "2022-07-12T11:25:22.848137Z"
        },
        "trusted": true,
        "id": "eB9u65f4Ej5i",
        "outputId": "76b69565-f9ac-41f5-cf8b-d26ac9d2fbe8"
      },
      "execution_count": null,
      "outputs": [
        {
          "name": "stdout",
          "text": "BLEU score: 0.7932563189341217\n",
          "output_type": "stream"
        }
      ]
    },
    {
      "cell_type": "code",
      "source": [
        "## defining callbacks and defining model 3 before compiling the model\n",
        "log_dir = \"logs3/fit/\"\n",
        "tensorboard_callback = tf.keras.callbacks.TensorBoard(log_dir=log_dir, histogram_freq=1)\n",
        "earl_stp = tf.keras.callbacks.EarlyStopping(monitor='val_loss', mode='min', patience=3,  restore_best_weights=True)\n",
        "cb = [tensorboard_callback,earl_stp]\n",
        "\n",
        "model3 = encoder_decoder(25,26,vocab_size_eng,'general')\n",
        "optimizer = tf.keras.optimizers.Adam()\n",
        "model3.compile(optimizer=optimizer,loss=loss_function)"
      ],
      "metadata": {
        "id": "oGeqNuFBEj5i"
      },
      "execution_count": null,
      "outputs": []
    },
    {
      "cell_type": "code",
      "source": [
        "## fitting model 3\n",
        "model3.fit(train_dataloader, steps_per_epoch=train.shape[0]//batch_size,\n",
        "                     epochs=5,validation_data=test_dataloader,\n",
        "                     validation_steps=validation.shape[0]//batch_size,\n",
        "                     callbacks=cb,verbose=1)"
      ],
      "metadata": {
        "execution": {
          "iopub.status.busy": "2022-07-12T10:17:48.888229Z",
          "iopub.execute_input": "2022-07-12T10:17:48.888601Z",
          "iopub.status.idle": "2022-07-12T10:36:39.685451Z",
          "shell.execute_reply.started": "2022-07-12T10:17:48.888547Z",
          "shell.execute_reply": "2022-07-12T10:36:39.684506Z"
        },
        "trusted": true,
        "id": "WNOFFbqWEj5i",
        "outputId": "158e3f58-d564-4e60-8b69-c5f67b9f57a4"
      },
      "execution_count": null,
      "outputs": [
        {
          "name": "stderr",
          "text": "2022-07-12 10:17:48.892648: I tensorflow/core/profiler/lib/profiler_session.cc:131] Profiler session initializing.\n2022-07-12 10:17:48.892699: I tensorflow/core/profiler/lib/profiler_session.cc:146] Profiler session started.\n2022-07-12 10:17:49.069703: I tensorflow/core/profiler/lib/profiler_session.cc:164] Profiler session tear down.\n2022-07-12 10:17:49.069894: I tensorflow/core/profiler/internal/gpu/cupti_tracer.cc:1748] CUPTI activity buffer flushed\n",
          "output_type": "stream"
        },
        {
          "name": "stdout",
          "text": "Epoch 1/5\n   1/2193 [..............................] - ETA: 19:21:39 - loss: 2.5720",
          "output_type": "stream"
        },
        {
          "name": "stderr",
          "text": "2022-07-12 10:18:22.441806: I tensorflow/core/profiler/lib/profiler_session.cc:131] Profiler session initializing.\n2022-07-12 10:18:22.441866: I tensorflow/core/profiler/lib/profiler_session.cc:146] Profiler session started.\n",
          "output_type": "stream"
        },
        {
          "name": "stdout",
          "text": "   2/2193 [..............................] - ETA: 56:07 - loss: 2.5091   ",
          "output_type": "stream"
        },
        {
          "name": "stderr",
          "text": "2022-07-12 10:18:23.966730: I tensorflow/core/profiler/lib/profiler_session.cc:66] Profiler session collecting data.\n2022-07-12 10:18:23.972713: I tensorflow/core/profiler/internal/gpu/cupti_tracer.cc:1748] CUPTI activity buffer flushed\n2022-07-12 10:18:24.128876: I tensorflow/core/profiler/internal/gpu/cupti_collector.cc:673]  GpuTracer has collected 2856 callback api events and 2854 activity events. \n2022-07-12 10:18:24.199680: I tensorflow/core/profiler/lib/profiler_session.cc:164] Profiler session tear down.\n2022-07-12 10:18:24.277743: I tensorflow/core/profiler/rpc/client/save_profile.cc:136] Creating directory: logs/fit/train/plugins/profile/2022_07_12_10_18_24\n\n2022-07-12 10:18:24.327145: I tensorflow/core/profiler/rpc/client/save_profile.cc:142] Dumped gzipped tool data for trace.json.gz to logs/fit/train/plugins/profile/2022_07_12_10_18_24/0512b6484110.trace.json.gz\n",
          "output_type": "stream"
        },
        {
          "name": "stdout",
          "text": "   3/2193 [..............................] - ETA: 59:31 - loss: 2.5287",
          "output_type": "stream"
        },
        {
          "name": "stderr",
          "text": "2022-07-12 10:18:24.417073: I tensorflow/core/profiler/rpc/client/save_profile.cc:136] Creating directory: logs/fit/train/plugins/profile/2022_07_12_10_18_24\n\n2022-07-12 10:18:24.425992: I tensorflow/core/profiler/rpc/client/save_profile.cc:142] Dumped gzipped tool data for memory_profile.json.gz to logs/fit/train/plugins/profile/2022_07_12_10_18_24/0512b6484110.memory_profile.json.gz\n2022-07-12 10:18:24.429321: I tensorflow/core/profiler/rpc/client/capture_profile.cc:251] Creating directory: logs/fit/train/plugins/profile/2022_07_12_10_18_24\nDumped tool data for xplane.pb to logs/fit/train/plugins/profile/2022_07_12_10_18_24/0512b6484110.xplane.pb\nDumped tool data for overview_page.pb to logs/fit/train/plugins/profile/2022_07_12_10_18_24/0512b6484110.overview_page.pb\nDumped tool data for input_pipeline.pb to logs/fit/train/plugins/profile/2022_07_12_10_18_24/0512b6484110.input_pipeline.pb\nDumped tool data for tensorflow_stats.pb to logs/fit/train/plugins/profile/2022_07_12_10_18_24/0512b6484110.tensorflow_stats.pb\nDumped tool data for kernel_stats.pb to logs/fit/train/plugins/profile/2022_07_12_10_18_24/0512b6484110.kernel_stats.pb\n\n",
          "output_type": "stream"
        },
        {
          "name": "stdout",
          "text": "2193/2193 [==============================] - 260s 104ms/step - loss: 1.0214 - val_loss: 0.7024\nEpoch 2/5\n2193/2193 [==============================] - 216s 99ms/step - loss: 0.5664 - val_loss: 0.4671\nEpoch 3/5\n2193/2193 [==============================] - 215s 98ms/step - loss: 0.3793 - val_loss: 0.3451\nEpoch 4/5\n2193/2193 [==============================] - 217s 99ms/step - loss: 0.2711 - val_loss: 0.2713\nEpoch 5/5\n2193/2193 [==============================] - 217s 99ms/step - loss: 0.2065 - val_loss: 0.2313\n",
          "output_type": "stream"
        },
        {
          "execution_count": 51,
          "output_type": "execute_result",
          "data": {
            "text/plain": "<keras.callbacks.History at 0x7efce265eb50>"
          },
          "metadata": {}
        }
      ]
    },
    {
      "cell_type": "code",
      "source": [
        "## sampled predictions for model 3\n",
        "for i,row in train.sample(4).iterrows():\n",
        "    print('-'*50)\n",
        "    print(\"Italian Sentence: \" ,row['italian'].replace('<start> ','').replace(' <end>',''))\n",
        "    print(\"Acutual Translation: \" ,row['english_inp'].replace('<start> ',''))\n",
        "    print(\"Attention Weights: \")\n",
        "    outputs,attention_wts = predict(model3,row['italian'])\n",
        "    print(\"Predicted Translation: \",\" \".join(outputs))"
      ],
      "metadata": {
        "execution": {
          "iopub.status.busy": "2022-07-12T10:36:39.687365Z",
          "iopub.execute_input": "2022-07-12T10:36:39.687664Z",
          "iopub.status.idle": "2022-07-12T10:36:39.907335Z",
          "shell.execute_reply.started": "2022-07-12T10:36:39.687637Z",
          "shell.execute_reply": "2022-07-12T10:36:39.906009Z"
        },
        "trusted": true,
        "id": "N80LqotMEj5i",
        "outputId": "ffa5d9e8-2a65-42f7-b010-b65b8a81ed47"
      },
      "execution_count": null,
      "outputs": [
        {
          "name": "stdout",
          "text": "--------------------------------------------------\nItalian Sentence:  avresti dovuto seguire gli ordini di tom\nAcutual Translation:  you should have followed tom is orders\nAttention Weights: \nPredicted Translation:  you should have followed tom is orders\n--------------------------------------------------\nItalian Sentence:  tom dove lha sentito\nAcutual Translation:  where did tom hear that\nAttention Weights: \nPredicted Translation:  where did tom hear it\n--------------------------------------------------\nItalian Sentence:  ho appena dato a tom trenta dollari\nAcutual Translation:  i just gave tom thirty dollars\nAttention Weights: \nPredicted Translation:  i just gave tom thirty dollars\n--------------------------------------------------\nItalian Sentence:  suonerò una sonata per lei\nAcutual Translation:  i will play a sonata for you\nAttention Weights: \nPredicted Translation:  i will play a sonata for you\n",
          "output_type": "stream"
        }
      ]
    },
    {
      "cell_type": "code",
      "source": [
        "## BLEU score on pred data\n",
        "bleu_scores0 = []\n",
        "for index, row in validation.sample(1000).iterrows():\n",
        "    translation,at_wts = predict(model3,row['italian'])\n",
        "    ref = [row['english_inp'].replace('<start> ','').split()]\n",
        "    bleu_scores0.append(bleu.sentence_bleu(ref, translation))\n",
        "blscr = np.mean(bleu_scores    \n",
        "print(\"BLEU score:\", blscr))"
      ],
      "metadata": {
        "execution": {
          "iopub.status.busy": "2022-07-12T11:22:35.028059Z",
          "iopub.execute_input": "2022-07-12T11:22:35.028702Z",
          "iopub.status.idle": "2022-07-12T11:22:35.040896Z",
          "shell.execute_reply.started": "2022-07-12T11:22:35.028655Z",
          "shell.execute_reply": "2022-07-12T11:22:35.035410Z"
        },
        "trusted": true,
        "id": "slH682cVEj5j",
        "outputId": "8fe52b75-ebf6-4815-f2fd-c967c0a33afc"
      },
      "execution_count": null,
      "outputs": [
        {
          "name": "stdout",
          "text": "BELU score: 0.7367810563104376\n",
          "output_type": "stream"
        }
      ]
    },
    {
      "cell_type": "code",
      "source": [
        "## defining callbacks and the model before compiling the model\n",
        "log_dir = \"logs4/fit/\"\n",
        "tensorboard_callback = tf.keras.callbacks.TensorBoard(log_dir=log_dir, histogram_freq=1)\n",
        "earl_stop = tf.keras.callbacks.EarlyStopping(monitor='val_loss', mode='min', patience=3,  restore_best_weights=True)\n",
        "cb = [tensorboard_callback,earl_stop]\n",
        "\n",
        "model4 = encoder_decoder(25,26,vocab_size_eng,'concat')\n",
        "optimizer = tf.keras.optimizers.Adam()\n",
        "model4.compile(optimizer=optimizer,loss=loss_function)"
      ],
      "metadata": {
        "id": "nmopWUYREj5j"
      },
      "execution_count": null,
      "outputs": []
    },
    {
      "cell_type": "code",
      "source": [
        "## fitting the model\n",
        "model4.fit(train_dataloader, steps_per_epoch=train.shape[0]//batch_size,\n",
        "                     epochs=5, validation_data=test_dataloader,\n",
        "                     validation_steps=validation.shape[0]//batch_size,\n",
        "                     callbacks=cb, verbose=1)"
      ],
      "metadata": {
        "execution": {
          "iopub.status.busy": "2022-07-12T10:40:34.973857Z",
          "iopub.execute_input": "2022-07-12T10:40:34.974203Z",
          "iopub.status.idle": "2022-07-12T11:02:16.505415Z",
          "shell.execute_reply.started": "2022-07-12T10:40:34.974174Z",
          "shell.execute_reply": "2022-07-12T11:02:16.504455Z"
        },
        "trusted": true,
        "id": "BMbBW3I-Ej5j",
        "outputId": "8777f424-4d2d-4e2f-84ab-7fe3089beff2"
      },
      "execution_count": null,
      "outputs": [
        {
          "name": "stdout",
          "text": "Epoch 1/5\n   1/2193 [..............................] - ETA: 4:47 - loss: 1.1008",
          "output_type": "stream"
        },
        {
          "name": "stderr",
          "text": "2022-07-12 10:40:36.542364: I tensorflow/core/profiler/lib/profiler_session.cc:131] Profiler session initializing.\n2022-07-12 10:40:36.542428: I tensorflow/core/profiler/lib/profiler_session.cc:146] Profiler session started.\n",
          "output_type": "stream"
        },
        {
          "name": "stdout",
          "text": "   2/2193 [..............................] - ETA: 1:03:39 - loss: 1.0797",
          "output_type": "stream"
        },
        {
          "name": "stderr",
          "text": "2022-07-12 10:40:36.922952: I tensorflow/core/profiler/lib/profiler_session.cc:66] Profiler session collecting data.\n2022-07-12 10:40:36.927629: I tensorflow/core/profiler/internal/gpu/cupti_tracer.cc:1748] CUPTI activity buffer flushed\n2022-07-12 10:40:37.102906: I tensorflow/core/profiler/internal/gpu/cupti_collector.cc:673]  GpuTracer has collected 3395 callback api events and 3393 activity events. \n2022-07-12 10:40:37.184686: I tensorflow/core/profiler/lib/profiler_session.cc:164] Profiler session tear down.\n2022-07-12 10:40:37.279958: I tensorflow/core/profiler/rpc/client/save_profile.cc:136] Creating directory: logs4/fit/train/plugins/profile/2022_07_12_10_40_37\n\n2022-07-12 10:40:37.343456: I tensorflow/core/profiler/rpc/client/save_profile.cc:142] Dumped gzipped tool data for trace.json.gz to logs4/fit/train/plugins/profile/2022_07_12_10_40_37/0512b6484110.trace.json.gz\n",
          "output_type": "stream"
        },
        {
          "name": "stdout",
          "text": "   3/2193 [..............................] - ETA: 44:27 - loss: 1.0777  ",
          "output_type": "stream"
        },
        {
          "name": "stderr",
          "text": "2022-07-12 10:40:37.462390: I tensorflow/core/profiler/rpc/client/save_profile.cc:136] Creating directory: logs4/fit/train/plugins/profile/2022_07_12_10_40_37\n\n2022-07-12 10:40:37.473437: I tensorflow/core/profiler/rpc/client/save_profile.cc:142] Dumped gzipped tool data for memory_profile.json.gz to logs4/fit/train/plugins/profile/2022_07_12_10_40_37/0512b6484110.memory_profile.json.gz\n2022-07-12 10:40:37.478425: I tensorflow/core/profiler/rpc/client/capture_profile.cc:251] Creating directory: logs4/fit/train/plugins/profile/2022_07_12_10_40_37\nDumped tool data for xplane.pb to logs4/fit/train/plugins/profile/2022_07_12_10_40_37/0512b6484110.xplane.pb\nDumped tool data for overview_page.pb to logs4/fit/train/plugins/profile/2022_07_12_10_40_37/0512b6484110.overview_page.pb\nDumped tool data for input_pipeline.pb to logs4/fit/train/plugins/profile/2022_07_12_10_40_37/0512b6484110.input_pipeline.pb\nDumped tool data for tensorflow_stats.pb to logs4/fit/train/plugins/profile/2022_07_12_10_40_37/0512b6484110.tensorflow_stats.pb\nDumped tool data for kernel_stats.pb to logs4/fit/train/plugins/profile/2022_07_12_10_40_37/0512b6484110.kernel_stats.pb\n\n",
          "output_type": "stream"
        },
        {
          "name": "stdout",
          "text": "2193/2193 [==============================] - 269s 123ms/step - loss: 0.7719 - val_loss: 0.5639\nEpoch 2/5\n2193/2193 [==============================] - 257s 117ms/step - loss: 0.4445 - val_loss: 0.3691\nEpoch 3/5\n2193/2193 [==============================] - 257s 117ms/step - loss: 0.2923 - val_loss: 0.2767\nEpoch 4/5\n2193/2193 [==============================] - 257s 117ms/step - loss: 0.2119 - val_loss: 0.2282\nEpoch 5/5\n2193/2193 [==============================] - 257s 117ms/step - loss: 0.1657 - val_loss: 0.2042\n",
          "output_type": "stream"
        },
        {
          "execution_count": 56,
          "output_type": "execute_result",
          "data": {
            "text/plain": "<keras.callbacks.History at 0x7efcd9364a90>"
          },
          "metadata": {}
        }
      ]
    },
    {
      "cell_type": "code",
      "source": [
        "## sampled predictions for model 4\n",
        "for i,row in train.sample(4).iterrows():\n",
        "    print('-'*50)\n",
        "    print(\"Italian Sentence: \" ,row['italian'].replace('<start> ','').replace(' <end>',''))\n",
        "    print(\"Acutual Translation: \" ,row['english_inp'].replace('<start> ',''))\n",
        "    print(\"Attention Weights: \")\n",
        "    outputs,attention_wts = predict(model4,row['italian'])\n",
        "    print(\"Predicted Translation: \",\" \".join(outputs))"
      ],
      "metadata": {
        "execution": {
          "iopub.status.busy": "2022-07-12T11:13:25.628076Z",
          "iopub.execute_input": "2022-07-12T11:13:25.628661Z",
          "iopub.status.idle": "2022-07-12T11:13:25.966212Z",
          "shell.execute_reply.started": "2022-07-12T11:13:25.628615Z",
          "shell.execute_reply": "2022-07-12T11:13:25.965315Z"
        },
        "trusted": true,
        "id": "CUTX-wu8Ej5j",
        "outputId": "3da73047-5ef0-46cf-9997-b2d53c2d1f23"
      },
      "execution_count": null,
      "outputs": [
        {
          "name": "stdout",
          "text": "--------------------------------------------------\nItalian Sentence:  io non ho finito\nAcutual Translation:  i am not done\nAttention Weights: \nPredicted Translation:  i am not done\n--------------------------------------------------\nItalian Sentence:  tom chiese a mary di dargli un po di denaro\nAcutual Translation:  tom asked mary to give him some money\nAttention Weights: \nPredicted Translation:  tom asked mary to give me some money\n--------------------------------------------------\nItalian Sentence:  mio nonno sarebbe spesso a leggere e studiare su questa scrivania\nAcutual Translation:  my grandfather would often read and study at this desk\nAttention Weights: \nPredicted Translation:  my grandfather would often eat reading that morning on the desk\n--------------------------------------------------\nItalian Sentence:  non sei stupido\nAcutual Translation:  you are not stupid\nAttention Weights: \nPredicted Translation:  you are not stupid\n",
          "output_type": "stream"
        }
      ]
    },
    {
      "cell_type": "code",
      "source": [
        "## bleu score for model 4\n",
        "bleu_scores = []\n",
        "for index, row in validation.sample(1000).iterrows():\n",
        "    translation,at_wts = predict(model4,row['italian'])\n",
        "    reference = [row['english_inp'].replace('<start> ','').split()]\n",
        "    bleu_scores.append(bleu.sentence_bleu(reference, translation))\n",
        "    \n",
        "print(\"BLEU score:\", np.mean(bleu_scores))"
      ],
      "metadata": {
        "execution": {
          "iopub.status.busy": "2022-07-12T11:14:22.124367Z",
          "iopub.execute_input": "2022-07-12T11:14:22.125055Z",
          "iopub.status.idle": "2022-07-12T11:15:21.429116Z",
          "shell.execute_reply.started": "2022-07-12T11:14:22.125016Z",
          "shell.execute_reply": "2022-07-12T11:15:21.428161Z"
        },
        "trusted": true,
        "id": "stS1gazAEj5j",
        "outputId": "cce67d97-a8a7-4266-afd6-65eeee681b0a"
      },
      "execution_count": null,
      "outputs": [
        {
          "name": "stdout",
          "text": "BLEU score: 0.7573654946372658\n",
          "output_type": "stream"
        }
      ]
    },
    {
      "cell_type": "code",
      "source": [
        ""
      ],
      "metadata": {
        "id": "ijH3ncajEj5k"
      },
      "execution_count": null,
      "outputs": []
    },
    {
      "cell_type": "markdown",
      "source": [
        "## ***Observations***"
      ],
      "metadata": {
        "id": "Jae4fZ7BEj5k"
      }
    },
    {
      "cell_type": "markdown",
      "source": [
        "*out of concat, general and dot, dot gives the best BLEU score of arounf 0,8*\n",
        "\n",
        "*all three have more or less similar BLEU score, with DOT taking the mantle*"
      ],
      "metadata": {
        "id": "JlmrYdJiEj5k"
      }
    },
    {
      "cell_type": "code",
      "source": [
        ""
      ],
      "metadata": {
        "id": "wL9oUTPAEj5k"
      },
      "execution_count": null,
      "outputs": []
    }
  ]
}